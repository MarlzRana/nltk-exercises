{
  "nbformat": 4,
  "nbformat_minor": 0,
  "metadata": {
    "colab": {
      "provenance": [],
      "authorship_tag": "ABX9TyOKFD2PTMy5SVsgUCNT8ALc"
    },
    "kernelspec": {
      "name": "python3",
      "display_name": "Python 3"
    },
    "language_info": {
      "name": "python"
    }
  },
  "cells": [
    {
      "cell_type": "markdown",
      "source": [],
      "metadata": {
        "id": "i7YiKjoimqd3"
      }
    },
    {
      "cell_type": "markdown",
      "source": [
        "# NLTK Book Chapter 1 Exercises\n",
        "\n",
        "Import dependencies"
      ],
      "metadata": {
        "id": "6tPFC6b5mumg"
      }
    },
    {
      "cell_type": "code",
      "source": [
        "import nltk\n",
        "\n",
        "nltk.download(\"book\")\n",
        "nltk.download(\"brown\")\n",
        "\n",
        "from nltk.book import *\n",
        "from nltk.corpus import brown"
      ],
      "metadata": {
        "colab": {
          "base_uri": "https://localhost:8080/"
        },
        "id": "o7YAzrPHmzvk",
        "outputId": "66030a86-d7d2-4b24-926a-34f0962b28e8"
      },
      "execution_count": null,
      "outputs": [
        {
          "output_type": "stream",
          "name": "stderr",
          "text": [
            "[nltk_data] Downloading collection 'book'\n",
            "[nltk_data]    | \n",
            "[nltk_data]    | Downloading package abc to /root/nltk_data...\n",
            "[nltk_data]    |   Package abc is already up-to-date!\n",
            "[nltk_data]    | Downloading package brown to /root/nltk_data...\n",
            "[nltk_data]    |   Package brown is already up-to-date!\n",
            "[nltk_data]    | Downloading package chat80 to /root/nltk_data...\n",
            "[nltk_data]    |   Package chat80 is already up-to-date!\n",
            "[nltk_data]    | Downloading package cmudict to /root/nltk_data...\n",
            "[nltk_data]    |   Package cmudict is already up-to-date!\n",
            "[nltk_data]    | Downloading package conll2000 to /root/nltk_data...\n",
            "[nltk_data]    |   Package conll2000 is already up-to-date!\n",
            "[nltk_data]    | Downloading package conll2002 to /root/nltk_data...\n",
            "[nltk_data]    |   Package conll2002 is already up-to-date!\n",
            "[nltk_data]    | Downloading package dependency_treebank to\n",
            "[nltk_data]    |     /root/nltk_data...\n",
            "[nltk_data]    |   Package dependency_treebank is already up-to-date!\n",
            "[nltk_data]    | Downloading package genesis to /root/nltk_data...\n",
            "[nltk_data]    |   Package genesis is already up-to-date!\n",
            "[nltk_data]    | Downloading package gutenberg to /root/nltk_data...\n",
            "[nltk_data]    |   Package gutenberg is already up-to-date!\n",
            "[nltk_data]    | Downloading package ieer to /root/nltk_data...\n",
            "[nltk_data]    |   Package ieer is already up-to-date!\n",
            "[nltk_data]    | Downloading package inaugural to /root/nltk_data...\n",
            "[nltk_data]    |   Package inaugural is already up-to-date!\n",
            "[nltk_data]    | Downloading package movie_reviews to\n",
            "[nltk_data]    |     /root/nltk_data...\n",
            "[nltk_data]    |   Package movie_reviews is already up-to-date!\n",
            "[nltk_data]    | Downloading package nps_chat to /root/nltk_data...\n",
            "[nltk_data]    |   Package nps_chat is already up-to-date!\n",
            "[nltk_data]    | Downloading package names to /root/nltk_data...\n",
            "[nltk_data]    |   Package names is already up-to-date!\n",
            "[nltk_data]    | Downloading package ppattach to /root/nltk_data...\n",
            "[nltk_data]    |   Package ppattach is already up-to-date!\n",
            "[nltk_data]    | Downloading package reuters to /root/nltk_data...\n",
            "[nltk_data]    |   Package reuters is already up-to-date!\n",
            "[nltk_data]    | Downloading package senseval to /root/nltk_data...\n",
            "[nltk_data]    |   Package senseval is already up-to-date!\n",
            "[nltk_data]    | Downloading package state_union to /root/nltk_data...\n",
            "[nltk_data]    |   Package state_union is already up-to-date!\n",
            "[nltk_data]    | Downloading package stopwords to /root/nltk_data...\n",
            "[nltk_data]    |   Package stopwords is already up-to-date!\n",
            "[nltk_data]    | Downloading package swadesh to /root/nltk_data...\n",
            "[nltk_data]    |   Package swadesh is already up-to-date!\n",
            "[nltk_data]    | Downloading package timit to /root/nltk_data...\n",
            "[nltk_data]    |   Package timit is already up-to-date!\n",
            "[nltk_data]    | Downloading package treebank to /root/nltk_data...\n",
            "[nltk_data]    |   Package treebank is already up-to-date!\n",
            "[nltk_data]    | Downloading package toolbox to /root/nltk_data...\n",
            "[nltk_data]    |   Package toolbox is already up-to-date!\n",
            "[nltk_data]    | Downloading package udhr to /root/nltk_data...\n",
            "[nltk_data]    |   Package udhr is already up-to-date!\n",
            "[nltk_data]    | Downloading package udhr2 to /root/nltk_data...\n",
            "[nltk_data]    |   Package udhr2 is already up-to-date!\n",
            "[nltk_data]    | Downloading package unicode_samples to\n",
            "[nltk_data]    |     /root/nltk_data...\n",
            "[nltk_data]    |   Package unicode_samples is already up-to-date!\n",
            "[nltk_data]    | Downloading package webtext to /root/nltk_data...\n",
            "[nltk_data]    |   Package webtext is already up-to-date!\n",
            "[nltk_data]    | Downloading package wordnet to /root/nltk_data...\n",
            "[nltk_data]    |   Package wordnet is already up-to-date!\n",
            "[nltk_data]    | Downloading package wordnet_ic to /root/nltk_data...\n",
            "[nltk_data]    |   Package wordnet_ic is already up-to-date!\n",
            "[nltk_data]    | Downloading package words to /root/nltk_data...\n",
            "[nltk_data]    |   Package words is already up-to-date!\n",
            "[nltk_data]    | Downloading package maxent_treebank_pos_tagger to\n",
            "[nltk_data]    |     /root/nltk_data...\n",
            "[nltk_data]    |   Package maxent_treebank_pos_tagger is already up-\n",
            "[nltk_data]    |       to-date!\n",
            "[nltk_data]    | Downloading package maxent_ne_chunker to\n",
            "[nltk_data]    |     /root/nltk_data...\n",
            "[nltk_data]    |   Package maxent_ne_chunker is already up-to-date!\n",
            "[nltk_data]    | Downloading package universal_tagset to\n",
            "[nltk_data]    |     /root/nltk_data...\n",
            "[nltk_data]    |   Package universal_tagset is already up-to-date!\n",
            "[nltk_data]    | Downloading package punkt to /root/nltk_data...\n",
            "[nltk_data]    |   Package punkt is already up-to-date!\n",
            "[nltk_data]    | Downloading package book_grammars to\n",
            "[nltk_data]    |     /root/nltk_data...\n",
            "[nltk_data]    |   Package book_grammars is already up-to-date!\n",
            "[nltk_data]    | Downloading package city_database to\n",
            "[nltk_data]    |     /root/nltk_data...\n",
            "[nltk_data]    |   Package city_database is already up-to-date!\n",
            "[nltk_data]    | Downloading package tagsets to /root/nltk_data...\n",
            "[nltk_data]    |   Package tagsets is already up-to-date!\n",
            "[nltk_data]    | Downloading package panlex_swadesh to\n",
            "[nltk_data]    |     /root/nltk_data...\n",
            "[nltk_data]    |   Package panlex_swadesh is already up-to-date!\n",
            "[nltk_data]    | Downloading package averaged_perceptron_tagger to\n",
            "[nltk_data]    |     /root/nltk_data...\n",
            "[nltk_data]    |   Package averaged_perceptron_tagger is already up-\n",
            "[nltk_data]    |       to-date!\n",
            "[nltk_data]    | \n",
            "[nltk_data]  Done downloading collection book\n",
            "[nltk_data] Downloading package brown to /root/nltk_data...\n",
            "[nltk_data]   Package brown is already up-to-date!\n"
          ]
        }
      ]
    },
    {
      "cell_type": "markdown",
      "source": [
        "1. Try using the Python interpreter as a calculator, and typing expressions like 12 / (4 + 1).\n",
        "\n"
      ],
      "metadata": {
        "id": "qaCvF7PanUm3"
      }
    },
    {
      "cell_type": "code",
      "source": [
        "12 / (4 + 1)"
      ],
      "metadata": {
        "colab": {
          "base_uri": "https://localhost:8080/"
        },
        "id": "Bjl-bA4Znd-b",
        "outputId": "b827fae2-a930-4b1c-d281-d3a3b8889f40"
      },
      "execution_count": null,
      "outputs": [
        {
          "output_type": "execute_result",
          "data": {
            "text/plain": [
              "2.4"
            ]
          },
          "metadata": {},
          "execution_count": 5
        }
      ]
    },
    {
      "cell_type": "markdown",
      "source": [
        "2. Given an alphabet of 26 letters, there are 26 to the power 10, or 26 ** 10, ten-letter strings we can form. That works out to 141167095653376. How many hundred-letter strings are possible?"
      ],
      "metadata": {
        "id": "C2a99MFUnlgb"
      }
    },
    {
      "cell_type": "code",
      "source": [
        "26 ** 100"
      ],
      "metadata": {
        "colab": {
          "base_uri": "https://localhost:8080/"
        },
        "id": "XpUXL-A4no01",
        "outputId": "4e5d3360-ee50-4a1b-a01c-8f989da3efcb"
      },
      "execution_count": null,
      "outputs": [
        {
          "output_type": "execute_result",
          "data": {
            "text/plain": [
              "3142930641582938830174357788501626427282669988762475256374173175398995908420104023465432599069702289330964075081611719197835869803511992549376"
            ]
          },
          "metadata": {},
          "execution_count": 6
        }
      ]
    },
    {
      "cell_type": "markdown",
      "source": [
        "3. The Python multiplication operation can be applied to lists. What happens when you type ['Monty', 'Python'] * 20, or 3 * sent1?"
      ],
      "metadata": {
        "id": "hPeScvvCoJf3"
      }
    },
    {
      "cell_type": "code",
      "source": [
        "[\"Monty\", \"Python\"] * 2"
      ],
      "metadata": {
        "colab": {
          "base_uri": "https://localhost:8080/"
        },
        "id": "b6r8gVY_oN7e",
        "outputId": "89f5f69b-a5af-4225-e9d7-32b6e9eab0e5"
      },
      "execution_count": null,
      "outputs": [
        {
          "output_type": "execute_result",
          "data": {
            "text/plain": [
              "['Monty', 'Python', 'Monty', 'Python']"
            ]
          },
          "metadata": {},
          "execution_count": 7
        }
      ]
    },
    {
      "cell_type": "code",
      "source": [
        "3 * sent1"
      ],
      "metadata": {
        "colab": {
          "base_uri": "https://localhost:8080/"
        },
        "id": "LxQe0tYQpHXR",
        "outputId": "dea67fab-ba93-4774-d5b7-ca1cd185c0d7"
      },
      "execution_count": null,
      "outputs": [
        {
          "output_type": "execute_result",
          "data": {
            "text/plain": [
              "['Call',\n",
              " 'me',\n",
              " 'Ishmael',\n",
              " '.',\n",
              " 'Call',\n",
              " 'me',\n",
              " 'Ishmael',\n",
              " '.',\n",
              " 'Call',\n",
              " 'me',\n",
              " 'Ishmael',\n",
              " '.']"
            ]
          },
          "metadata": {},
          "execution_count": 8
        }
      ]
    },
    {
      "cell_type": "markdown",
      "source": [
        "4. Review 1 on computing with language. How many words are there in text2? How many distinct words are there?"
      ],
      "metadata": {
        "id": "xuoyMGZVp-W7"
      }
    },
    {
      "cell_type": "code",
      "source": [
        "print(f\"The number of words: {len(text2)}\")"
      ],
      "metadata": {
        "colab": {
          "base_uri": "https://localhost:8080/"
        },
        "id": "sT5sVvfsp_rA",
        "outputId": "4ff63f22-140f-4d1b-c25c-036bb521c2c0"
      },
      "execution_count": null,
      "outputs": [
        {
          "output_type": "stream",
          "name": "stdout",
          "text": [
            "The number of words: 141576\n"
          ]
        }
      ]
    },
    {
      "cell_type": "code",
      "source": [
        "print(f\"The number of distinct words/vocabulary: {len(set(text2))}\")"
      ],
      "metadata": {
        "colab": {
          "base_uri": "https://localhost:8080/"
        },
        "id": "_FfqI1bYr0X8",
        "outputId": "e060ec9b-06c2-459f-bdd3-521f49dc38e7"
      },
      "execution_count": null,
      "outputs": [
        {
          "output_type": "stream",
          "name": "stdout",
          "text": [
            "The number of distinct words/vocabulary: 6833\n"
          ]
        }
      ]
    },
    {
      "cell_type": "markdown",
      "source": [
        "5. Compare the lexical diversity scores for humor and romance fiction in 1.1. Which genre is more lexically diverse?"
      ],
      "metadata": {
        "id": "IvIzqdFWqaOJ"
      }
    },
    {
      "cell_type": "code",
      "source": [
        "def lexical_diversity(words):\n",
        "  return len(set(words)) / len(words)"
      ],
      "metadata": {
        "id": "fLUF2fmCr7U1"
      },
      "execution_count": null,
      "outputs": []
    },
    {
      "cell_type": "code",
      "source": [
        "brown.categories()"
      ],
      "metadata": {
        "colab": {
          "base_uri": "https://localhost:8080/"
        },
        "id": "Xp0StXFEt83M",
        "outputId": "a779c9b8-6c27-4c58-950e-e23a4c5c2154"
      },
      "execution_count": null,
      "outputs": [
        {
          "output_type": "execute_result",
          "data": {
            "text/plain": [
              "['adventure',\n",
              " 'belles_lettres',\n",
              " 'editorial',\n",
              " 'fiction',\n",
              " 'government',\n",
              " 'hobbies',\n",
              " 'humor',\n",
              " 'learned',\n",
              " 'lore',\n",
              " 'mystery',\n",
              " 'news',\n",
              " 'religion',\n",
              " 'reviews',\n",
              " 'romance',\n",
              " 'science_fiction']"
            ]
          },
          "metadata": {},
          "execution_count": 12
        }
      ]
    },
    {
      "cell_type": "code",
      "source": [
        "humor_text = brown.words(categories=[\"humor\"])\n",
        "humor_text[:100]"
      ],
      "metadata": {
        "colab": {
          "base_uri": "https://localhost:8080/"
        },
        "id": "pSMTQhTIuAfl",
        "outputId": "5d82fca7-e15a-4c00-9b2b-df7cc8f9843c"
      },
      "execution_count": null,
      "outputs": [
        {
          "output_type": "execute_result",
          "data": {
            "text/plain": [
              "['It', 'was', 'among', 'these', 'that', 'Hinkle', ...]"
            ]
          },
          "metadata": {},
          "execution_count": 13
        }
      ]
    },
    {
      "cell_type": "code",
      "source": [
        "romance_text = brown.words(categories=[\"romance\"])\n",
        "romance_text[:100]"
      ],
      "metadata": {
        "colab": {
          "base_uri": "https://localhost:8080/"
        },
        "id": "xlfhuKomuQmh",
        "outputId": "e5141585-e165-49b3-e994-1e3c4db7ea90"
      },
      "execution_count": null,
      "outputs": [
        {
          "output_type": "execute_result",
          "data": {
            "text/plain": [
              "['They', 'neither', 'liked', 'nor', 'disliked', 'the', ...]"
            ]
          },
          "metadata": {},
          "execution_count": 14
        }
      ]
    },
    {
      "cell_type": "code",
      "source": [
        "print(f\"The lexical diversity of the humor_text is: {lexical_diversity(humor_text)}\")\n",
        "print(f\"The lexical diversity of the romance_text is: {lexical_diversity(romance_text)}\")"
      ],
      "metadata": {
        "colab": {
          "base_uri": "https://localhost:8080/"
        },
        "id": "qB7qyuN2uWsF",
        "outputId": "8426446b-16a4-49e5-e936-20a433f4cf78"
      },
      "execution_count": null,
      "outputs": [
        {
          "output_type": "stream",
          "name": "stdout",
          "text": [
            "The lexical diversity of the humor_text is: 0.23125144042406084\n",
            "The lexical diversity of the romance_text is: 0.12070492131044529\n"
          ]
        }
      ]
    },
    {
      "cell_type": "markdown",
      "source": [
        "6. Produce a dispersion plot of the four main protagonists in Sense and Sensibility: Elinor, Marianne, Edward, and Willoughby. What can you observe about the different roles played by the males and females in this novel? Can you identify the couples?"
      ],
      "metadata": {
        "id": "q8YIKD8oqdoq"
      }
    },
    {
      "cell_type": "code",
      "source": [
        "text_sense_and_sensibility = text2"
      ],
      "metadata": {
        "id": "4PAeH3eCuw4k"
      },
      "execution_count": null,
      "outputs": []
    },
    {
      "cell_type": "code",
      "source": [
        "protagonists_sense_and_sensibility = [\"Elinor\", \"Marianne\", \"Edward\", \"Willoughby\"]"
      ],
      "metadata": {
        "id": "sYC-GLJywBdn"
      },
      "execution_count": null,
      "outputs": []
    },
    {
      "cell_type": "code",
      "source": [
        "text_sense_and_sensibility.dispersion_plot(protagonists_sense_and_sensibility)"
      ],
      "metadata": {
        "colab": {
          "base_uri": "https://localhost:8080/",
          "height": 472
        },
        "id": "E8h3VlC4u8up",
        "outputId": "9703c5e2-65f4-44ff-9392-7adffbad1ee5"
      },
      "execution_count": null,
      "outputs": [
        {
          "output_type": "display_data",
          "data": {
            "text/plain": [
              "<Figure size 640x480 with 1 Axes>"
            ],
            "image/png": "[encoded data removed]"
          },
          "metadata": {}
        }
      ]
    },
    {
      "cell_type": "code",
      "source": [
        "print(\"The males are Willoughby and Edward\")\n",
        "print(\"The females are Marianne and Elinor\")\n",
        "\n",
        "print(\"The first couple is Edward and Elinor\")\n",
        "print(\"The second couple is Willoughby and Marianne\")"
      ],
      "metadata": {
        "colab": {
          "base_uri": "https://localhost:8080/"
        },
        "id": "bOvv8BpQwcTx",
        "outputId": "5c496533-dc6d-4081-ae98-e23b16b7a5c0"
      },
      "execution_count": null,
      "outputs": [
        {
          "output_type": "stream",
          "name": "stdout",
          "text": [
            "The males are Willoughby and Edward\n",
            "The females are Marianne and Elinor\n",
            "The first couple is Edward and Elinor\n",
            "The second couple is Willoughby and Marianne\n"
          ]
        }
      ]
    },
    {
      "cell_type": "markdown",
      "source": [
        "7. Find the collocations in text5."
      ],
      "metadata": {
        "id": "N5srLPytqkT5"
      }
    },
    {
      "cell_type": "code",
      "source": [
        "text5.collocations()"
      ],
      "metadata": {
        "colab": {
          "base_uri": "https://localhost:8080/"
        },
        "id": "W5ov8-GDxkon",
        "outputId": "0ef5f0e4-3f0c-43a4-cf61-eb6054e2cf02"
      },
      "execution_count": null,
      "outputs": [
        {
          "output_type": "stream",
          "name": "stdout",
          "text": [
            "wanna chat; PART JOIN; MODE #14-19teens; JOIN PART; PART PART;\n",
            "cute.-ass MP3; MP3 player; JOIN JOIN; times .. .; ACTION watches; guys\n",
            "wanna; song lasts; last night; ACTION sits; -...)...- S.M.R.; Lime\n",
            "Player; Player 12%; dont know; lez gurls; long time\n"
          ]
        }
      ]
    },
    {
      "cell_type": "markdown",
      "source": [
        "8. Consider the following Python expression: len(set(text4)). State the purpose of this expression. Describe the two steps involved in performing this computation."
      ],
      "metadata": {
        "id": "s8N958s-qm6w"
      }
    },
    {
      "cell_type": "code",
      "source": [
        "print(\"The operation set(text4) first remove all duplicate words from text4 such that we are left with vocabulary/unique words\")\n",
        "print(\"The operation len(set(text4)) will return the vocabulary length/count when paired with set(text4)\")"
      ],
      "metadata": {
        "colab": {
          "base_uri": "https://localhost:8080/"
        },
        "id": "RFqAJtU-xtUC",
        "outputId": "3d9c6f02-15ea-4087-cddc-ad33f637956c"
      },
      "execution_count": null,
      "outputs": [
        {
          "output_type": "stream",
          "name": "stdout",
          "text": [
            "The operation set(text4) first remove all duplicate words from text4 such that we are left with vocabulary/unique words\n",
            "The operation len(set(text4)) will return the vocabulary length/count when paired with set(text4)\n"
          ]
        }
      ]
    },
    {
      "cell_type": "markdown",
      "source": [
        "9. Review 2 on lists and strings."
      ],
      "metadata": {
        "id": "BUwE7oVRqrdw"
      }
    },
    {
      "cell_type": "markdown",
      "source": [
        "9a. Define a string and assign it to a variable, e.g., my_string = 'My String' (but put something more interesting in the string). Print the contents of this variable in two ways, first by simply typing the variable name and pressing enter, then by using the print statement."
      ],
      "metadata": {
        "id": "H0iYhVwSqzyu"
      }
    },
    {
      "cell_type": "code",
      "source": [
        "my_string = \"My String\""
      ],
      "metadata": {
        "id": "SwTvTYnWzdTJ"
      },
      "execution_count": null,
      "outputs": []
    },
    {
      "cell_type": "code",
      "source": [
        "my_string"
      ],
      "metadata": {
        "colab": {
          "base_uri": "https://localhost:8080/",
          "height": 36
        },
        "id": "HyMWCKjKzjZm",
        "outputId": "93633bd3-eae7-4d9e-dd12-cebd8ac46dd2"
      },
      "execution_count": null,
      "outputs": [
        {
          "output_type": "execute_result",
          "data": {
            "text/plain": [
              "'My String'"
            ],
            "application/vnd.google.colaboratory.intrinsic+json": {
              "type": "string"
            }
          },
          "metadata": {},
          "execution_count": 23
        }
      ]
    },
    {
      "cell_type": "code",
      "source": [
        "print(my_string)"
      ],
      "metadata": {
        "colab": {
          "base_uri": "https://localhost:8080/"
        },
        "id": "-GySvQDOzkqb",
        "outputId": "99bce2a5-fc5d-4d5d-9bc3-2668d2da450f"
      },
      "execution_count": null,
      "outputs": [
        {
          "output_type": "stream",
          "name": "stdout",
          "text": [
            "My String\n"
          ]
        }
      ]
    },
    {
      "cell_type": "markdown",
      "source": [
        "9b. Try adding the string to itself using my_string + my_string, or multiplying it by a number, e.g., my_string * 3. Notice that the strings are joined together without any spaces. How could you fix this?"
      ],
      "metadata": {
        "id": "lIGf3oiqq2b0"
      }
    },
    {
      "cell_type": "code",
      "source": [
        "my_string + my_string"
      ],
      "metadata": {
        "colab": {
          "base_uri": "https://localhost:8080/",
          "height": 36
        },
        "id": "MoiFgG1Szmde",
        "outputId": "ee6bb553-d808-4bfb-e2a1-6604f8a7e396"
      },
      "execution_count": null,
      "outputs": [
        {
          "output_type": "execute_result",
          "data": {
            "text/plain": [
              "'My StringMy String'"
            ],
            "application/vnd.google.colaboratory.intrinsic+json": {
              "type": "string"
            }
          },
          "metadata": {},
          "execution_count": 25
        }
      ]
    },
    {
      "cell_type": "code",
      "source": [
        "my_string + ' ' + my_string"
      ],
      "metadata": {
        "colab": {
          "base_uri": "https://localhost:8080/",
          "height": 36
        },
        "id": "t0Pd9qFTzpkx",
        "outputId": "00d94fa6-c443-4d22-c73f-b98d0319efc1"
      },
      "execution_count": null,
      "outputs": [
        {
          "output_type": "execute_result",
          "data": {
            "text/plain": [
              "'My String My String'"
            ],
            "application/vnd.google.colaboratory.intrinsic+json": {
              "type": "string"
            }
          },
          "metadata": {},
          "execution_count": 26
        }
      ]
    },
    {
      "cell_type": "code",
      "source": [
        "my_string * 3"
      ],
      "metadata": {
        "colab": {
          "base_uri": "https://localhost:8080/",
          "height": 36
        },
        "id": "SUqFtoCfzuEI",
        "outputId": "2311ef8c-ecfa-4cc2-87c4-d6b89f44a4c1"
      },
      "execution_count": null,
      "outputs": [
        {
          "output_type": "execute_result",
          "data": {
            "text/plain": [
              "'My StringMy StringMy String'"
            ],
            "application/vnd.google.colaboratory.intrinsic+json": {
              "type": "string"
            }
          },
          "metadata": {},
          "execution_count": 27
        }
      ]
    },
    {
      "cell_type": "code",
      "source": [
        "\" \".join([my_string] * 3)"
      ],
      "metadata": {
        "colab": {
          "base_uri": "https://localhost:8080/",
          "height": 36
        },
        "id": "uHtsND8MzwIU",
        "outputId": "6e9ee958-7167-4ebe-956a-29e170887a1d"
      },
      "execution_count": null,
      "outputs": [
        {
          "output_type": "execute_result",
          "data": {
            "text/plain": [
              "'My String My String My String'"
            ],
            "application/vnd.google.colaboratory.intrinsic+json": {
              "type": "string"
            }
          },
          "metadata": {},
          "execution_count": 28
        }
      ]
    },
    {
      "cell_type": "markdown",
      "source": [
        "10. Define a variable my_sent to be a list of words, using the syntax my_sent = [\"My\", \"sent\"] (but with your own words, or a favorite saying)."
      ],
      "metadata": {
        "id": "PMFWROhvq49M"
      }
    },
    {
      "cell_type": "code",
      "source": [
        "my_sent = [\"My\", \"name\", \"is\", \"Marlin\"]"
      ],
      "metadata": {
        "id": "aJO2E2RGz4up"
      },
      "execution_count": null,
      "outputs": []
    },
    {
      "cell_type": "markdown",
      "source": [
        "10a. Use ' '.join(my_sent) to convert this into a string.\n"
      ],
      "metadata": {
        "id": "0V3EfTY9q8yZ"
      }
    },
    {
      "cell_type": "code",
      "source": [
        "' '.join(my_sent) + '.'"
      ],
      "metadata": {
        "colab": {
          "base_uri": "https://localhost:8080/",
          "height": 36
        },
        "id": "qMi23Bo20BaT",
        "outputId": "d0cb6cd4-0b6f-407c-cdd1-c10a04546a21"
      },
      "execution_count": null,
      "outputs": [
        {
          "output_type": "execute_result",
          "data": {
            "text/plain": [
              "'My name is Marlin.'"
            ],
            "application/vnd.google.colaboratory.intrinsic+json": {
              "type": "string"
            }
          },
          "metadata": {},
          "execution_count": 30
        }
      ]
    },
    {
      "cell_type": "markdown",
      "source": [
        "10b. Use split() to split the string back into the list form you had to start with."
      ],
      "metadata": {
        "id": "iVDxufEwrGEb"
      }
    },
    {
      "cell_type": "code",
      "source": [
        "' '.join(my_sent).split(' ')"
      ],
      "metadata": {
        "colab": {
          "base_uri": "https://localhost:8080/"
        },
        "id": "cE41cZUz0J34",
        "outputId": "63b7fe74-7f86-4b05-ff42-b69673531d1a"
      },
      "execution_count": null,
      "outputs": [
        {
          "output_type": "execute_result",
          "data": {
            "text/plain": [
              "['My', 'name', 'is', 'Marlin']"
            ]
          },
          "metadata": {},
          "execution_count": 31
        }
      ]
    },
    {
      "cell_type": "markdown",
      "source": [
        "11. Define several variables containing lists of words, e.g., phrase1, phrase2, and so on. Join them together in various combinations (using the plus operator) to form whole sentences. What is the relationship between len(phrase1 + phrase2) and len(phrase1) + len(phrase2)?"
      ],
      "metadata": {
        "id": "QYXJbFuprI9X"
      }
    },
    {
      "cell_type": "code",
      "source": [
        "phrase_1 = [\"The\", \"man\", \"walked\", \"across\", \"the\", \"street\"]\n",
        "phrase_2 = [\"This\", \"is\", \"the\", \"time\", \"for\", \"innovation\"]"
      ],
      "metadata": {
        "id": "jXbGIGM80lpC"
      },
      "execution_count": null,
      "outputs": []
    },
    {
      "cell_type": "code",
      "source": [
        "len(phrase_1 + phrase_2)"
      ],
      "metadata": {
        "colab": {
          "base_uri": "https://localhost:8080/"
        },
        "id": "0r5vUmK33rrE",
        "outputId": "e620233e-f307-4593-b69d-bd0530fd5c20"
      },
      "execution_count": null,
      "outputs": [
        {
          "output_type": "execute_result",
          "data": {
            "text/plain": [
              "12"
            ]
          },
          "metadata": {},
          "execution_count": 33
        }
      ]
    },
    {
      "cell_type": "code",
      "source": [
        "len(phrase_1) + len(phrase_2)"
      ],
      "metadata": {
        "colab": {
          "base_uri": "https://localhost:8080/"
        },
        "id": "87EJn7cb33Nh",
        "outputId": "3365fbac-9c1e-4eca-e383-a959cf1f77e1"
      },
      "execution_count": null,
      "outputs": [
        {
          "output_type": "execute_result",
          "data": {
            "text/plain": [
              "12"
            ]
          },
          "metadata": {},
          "execution_count": 34
        }
      ]
    },
    {
      "cell_type": "code",
      "source": [
        "print(\"len is an additive function. f(a) + f(b) = f(a + b)\")"
      ],
      "metadata": {
        "colab": {
          "base_uri": "https://localhost:8080/"
        },
        "id": "euia-HOR4KC6",
        "outputId": "4723c3a1-fd3b-4e69-a9b5-ab92afad76a3"
      },
      "execution_count": null,
      "outputs": [
        {
          "output_type": "stream",
          "name": "stdout",
          "text": [
            "len is an additive function. f(a) + f(b) = f(a + b)\n"
          ]
        }
      ]
    },
    {
      "cell_type": "markdown",
      "source": [
        "12. Consider the following two expressions, which have the same value. Which one will typically be more relevant in NLP? Why?<br>\n",
        "a.<code>\"Monty Python\"[6:12]</code><br>\n",
        "b.<code>[\"Monty\", \"Python\"][1]</code>"
      ],
      "metadata": {
        "id": "ZEOx8z060rYO"
      }
    },
    {
      "cell_type": "code",
      "source": [
        "\"Monty Python\"[6:12]"
      ],
      "metadata": {
        "colab": {
          "base_uri": "https://localhost:8080/",
          "height": 36
        },
        "id": "ID1ZXJH51Ciq",
        "outputId": "0efd74b6-cacc-42d9-816f-6180cbbc66ac"
      },
      "execution_count": null,
      "outputs": [
        {
          "output_type": "execute_result",
          "data": {
            "text/plain": [
              "'Python'"
            ],
            "application/vnd.google.colaboratory.intrinsic+json": {
              "type": "string"
            }
          },
          "metadata": {},
          "execution_count": 36
        }
      ]
    },
    {
      "cell_type": "code",
      "source": [
        "[\"Monty\", \"Python\"][1]"
      ],
      "metadata": {
        "colab": {
          "base_uri": "https://localhost:8080/",
          "height": 36
        },
        "id": "mswg4frC4gSi",
        "outputId": "6e08182d-9e96-453c-e2bb-4e5985263a28"
      },
      "execution_count": null,
      "outputs": [
        {
          "output_type": "execute_result",
          "data": {
            "text/plain": [
              "'Python'"
            ],
            "application/vnd.google.colaboratory.intrinsic+json": {
              "type": "string"
            }
          },
          "metadata": {},
          "execution_count": 37
        }
      ]
    },
    {
      "cell_type": "code",
      "source": [
        "print(\"The second operation is more relevant, as we are typically dealing with already tokenized text in a list\")"
      ],
      "metadata": {
        "id": "--ZDMhQw4jAb",
        "colab": {
          "base_uri": "https://localhost:8080/"
        },
        "outputId": "1fecd1e8-fac5-409b-8dbb-35f9b95fe330"
      },
      "execution_count": null,
      "outputs": [
        {
          "output_type": "stream",
          "name": "stdout",
          "text": [
            "The second operation is more relevant, as we are typically dealing with already tokenized text in a list\n"
          ]
        }
      ]
    },
    {
      "cell_type": "markdown",
      "source": [
        "13. We have seen how to represent a sentence as a list of words, where each word is a sequence of characters. What does sent1[2][2] do? Why? Experiment with other index values."
      ],
      "metadata": {
        "id": "IaZtFh3F1C3P"
      }
    },
    {
      "cell_type": "code",
      "source": [
        "sent1[2][2]"
      ],
      "metadata": {
        "colab": {
          "base_uri": "https://localhost:8080/",
          "height": 36
        },
        "id": "EHGRBXJ91FVW",
        "outputId": "8807688e-07da-4f61-cb26-d7d42a1ac4a2"
      },
      "execution_count": null,
      "outputs": [
        {
          "output_type": "execute_result",
          "data": {
            "text/plain": [
              "'h'"
            ],
            "application/vnd.google.colaboratory.intrinsic+json": {
              "type": "string"
            }
          },
          "metadata": {},
          "execution_count": 39
        }
      ]
    },
    {
      "cell_type": "markdown",
      "source": [
        "14. The first sentence of text3 is provided to you in the variable sent3. The index of the in sent3 is 1, because sent3[1] gives us 'the'. What are the indexes of the two other occurrences of this word in sent3?"
      ],
      "metadata": {
        "id": "QUBaisYw1E_K"
      }
    },
    {
      "cell_type": "code",
      "source": [
        "sent3[1]"
      ],
      "metadata": {
        "colab": {
          "base_uri": "https://localhost:8080/",
          "height": 36
        },
        "id": "9Xm-l0hO1IH2",
        "outputId": "52dc7972-40ca-48af-9861-d8ec3fe7fd55"
      },
      "execution_count": null,
      "outputs": [
        {
          "output_type": "execute_result",
          "data": {
            "text/plain": [
              "'the'"
            ],
            "application/vnd.google.colaboratory.intrinsic+json": {
              "type": "string"
            }
          },
          "metadata": {},
          "execution_count": 40
        }
      ]
    },
    {
      "cell_type": "code",
      "source": [
        "print(\"The first index selects the word.\")\n",
        "print(\"The second index selects the character of the word chosen by the first index.\")"
      ],
      "metadata": {
        "colab": {
          "base_uri": "https://localhost:8080/"
        },
        "id": "mdDLwwzm8psq",
        "outputId": "ef37bf7f-66cd-4f25-fc8b-4cabee76735f"
      },
      "execution_count": null,
      "outputs": [
        {
          "output_type": "stream",
          "name": "stdout",
          "text": [
            "The first index selects the word.\n",
            "The second index selects the character of the word chosen by the first index.\n"
          ]
        }
      ]
    },
    {
      "cell_type": "markdown",
      "source": [
        "15. Review the discussion of conditionals in 4. Find all words in the Chat Corpus (text5) starting with the letter b. Show them in alphabetical order."
      ],
      "metadata": {
        "id": "LZrY2Xth1IcD"
      }
    },
    {
      "cell_type": "code",
      "source": [
        "sorted([word for word in text5 if len(word) > 0 and ((word[0]).lower() == 'b')])"
      ],
      "metadata": {
        "colab": {
          "base_uri": "https://localhost:8080/"
        },
        "id": "H_MGfkLh1J1x",
        "outputId": "dbc09e2d-f16f-4c00-fed8-655f056117e2"
      },
      "execution_count": null,
      "outputs": [
        {
          "output_type": "execute_result",
          "data": {
            "text/plain": [
              "['B',\n",
              " 'B',\n",
              " 'BAAAAALLLLLLLLIIIIIIINNNNNNNNNNN',\n",
              " 'BE',\n",
              " 'BIG',\n",
              " 'BIG',\n",
              " 'BLONDES',\n",
              " 'BOOTS',\n",
              " 'BOOTY',\n",
              " 'BOOTY',\n",
              " 'BOOTY',\n",
              " 'BOY',\n",
              " 'BUT',\n",
              " 'BUt',\n",
              " 'BYE',\n",
              " 'Back',\n",
              " 'Barbieee',\n",
              " 'Barometer',\n",
              " 'Beach',\n",
              " 'Beach',\n",
              " 'Because',\n",
              " 'Because',\n",
              " 'Been',\n",
              " 'Ben',\n",
              " 'Ben',\n",
              " 'Benjamin',\n",
              " 'Better',\n",
              " 'Bible',\n",
              " 'Biiiiiitch',\n",
              " 'Biographys',\n",
              " 'Birdgang',\n",
              " 'Bloooooooood',\n",
              " 'Bloooooooooood',\n",
              " 'Bloooooooooooood',\n",
              " 'Bone',\n",
              " 'Bonus',\n",
              " 'Books',\n",
              " 'Boone',\n",
              " 'Booyah',\n",
              " 'Borat',\n",
              " 'Born',\n",
              " 'Box',\n",
              " 'Boyz',\n",
              " 'Break',\n",
              " 'Breaking',\n",
              " 'Broken',\n",
              " 'Bud',\n",
              " 'Burger',\n",
              " 'But',\n",
              " 'But',\n",
              " 'But',\n",
              " 'But',\n",
              " 'But',\n",
              " 'Bwhaha',\n",
              " 'Bye',\n",
              " 'b',\n",
              " 'b',\n",
              " 'b',\n",
              " 'b',\n",
              " 'b',\n",
              " 'b',\n",
              " 'b-day',\n",
              " 'b/c',\n",
              " 'b4',\n",
              " 'b4',\n",
              " 'babay',\n",
              " 'babble',\n",
              " 'babblein',\n",
              " 'babe',\n",
              " 'babe',\n",
              " 'babe',\n",
              " 'babe',\n",
              " 'babe',\n",
              " 'babe',\n",
              " 'babe',\n",
              " 'babe',\n",
              " 'babe',\n",
              " 'babe',\n",
              " 'babe',\n",
              " 'babes',\n",
              " 'babes',\n",
              " 'babes',\n",
              " 'babi',\n",
              " 'babi',\n",
              " 'babies',\n",
              " 'babies',\n",
              " 'babiess',\n",
              " 'baby',\n",
              " 'baby',\n",
              " 'baby',\n",
              " 'baby',\n",
              " 'baby',\n",
              " 'baby',\n",
              " 'baby',\n",
              " 'baby',\n",
              " 'baby',\n",
              " 'baby',\n",
              " 'baby',\n",
              " 'baby',\n",
              " 'baby',\n",
              " 'baby',\n",
              " 'baby',\n",
              " 'baby',\n",
              " 'baby',\n",
              " 'baby',\n",
              " 'baby',\n",
              " 'baby',\n",
              " 'baby',\n",
              " 'baby',\n",
              " 'baby',\n",
              " 'baby',\n",
              " 'baby',\n",
              " 'baby',\n",
              " 'babycakeses',\n",
              " 'bachelorette',\n",
              " 'back',\n",
              " 'back',\n",
              " 'back',\n",
              " 'back',\n",
              " 'back',\n",
              " 'back',\n",
              " 'back',\n",
              " 'back',\n",
              " 'back',\n",
              " 'back',\n",
              " 'back',\n",
              " 'back',\n",
              " 'back',\n",
              " 'back',\n",
              " 'back',\n",
              " 'back',\n",
              " 'back',\n",
              " 'back',\n",
              " 'back',\n",
              " 'back',\n",
              " 'back',\n",
              " 'back',\n",
              " 'back',\n",
              " 'back',\n",
              " 'back',\n",
              " 'back',\n",
              " 'back',\n",
              " 'back',\n",
              " 'back',\n",
              " 'back',\n",
              " 'back',\n",
              " 'back',\n",
              " 'back',\n",
              " 'back',\n",
              " 'back',\n",
              " 'back',\n",
              " 'back',\n",
              " 'back',\n",
              " 'back',\n",
              " 'back',\n",
              " 'back',\n",
              " 'back',\n",
              " 'back',\n",
              " 'back',\n",
              " 'back',\n",
              " 'back',\n",
              " 'back',\n",
              " 'back',\n",
              " 'back',\n",
              " 'back',\n",
              " 'back',\n",
              " 'back',\n",
              " 'back',\n",
              " 'back',\n",
              " 'back',\n",
              " 'back',\n",
              " 'back',\n",
              " 'back',\n",
              " 'back',\n",
              " 'back',\n",
              " 'back',\n",
              " 'back',\n",
              " 'back',\n",
              " 'back',\n",
              " 'back',\n",
              " 'back',\n",
              " 'back',\n",
              " 'back',\n",
              " 'back',\n",
              " 'back',\n",
              " 'back',\n",
              " 'back',\n",
              " 'back',\n",
              " 'back',\n",
              " 'back',\n",
              " 'back',\n",
              " 'back',\n",
              " 'back',\n",
              " 'backatchya',\n",
              " 'backfrontsidewaysandallaroundtheworld',\n",
              " 'backroom',\n",
              " 'backup',\n",
              " 'bacl',\n",
              " 'bad',\n",
              " 'bad',\n",
              " 'bad',\n",
              " 'bad',\n",
              " 'bad',\n",
              " 'bad',\n",
              " 'bad',\n",
              " 'bad',\n",
              " 'bad',\n",
              " 'bad',\n",
              " 'bad',\n",
              " 'bad',\n",
              " 'bad',\n",
              " 'bad',\n",
              " 'bad',\n",
              " 'bad',\n",
              " 'bad',\n",
              " 'bad',\n",
              " 'bad',\n",
              " 'bad',\n",
              " 'bad',\n",
              " 'bad',\n",
              " 'bad',\n",
              " 'bad',\n",
              " 'bad',\n",
              " 'bad',\n",
              " 'bag',\n",
              " 'bag',\n",
              " 'bag',\n",
              " 'bagel',\n",
              " 'bagels',\n",
              " 'bahahahaa',\n",
              " 'bak',\n",
              " 'baked',\n",
              " 'balad',\n",
              " 'balance',\n",
              " 'balck',\n",
              " 'balck',\n",
              " 'ball',\n",
              " 'ball',\n",
              " 'ball',\n",
              " 'ball',\n",
              " 'ball',\n",
              " 'ball',\n",
              " 'ballin',\n",
              " 'balls',\n",
              " 'balls',\n",
              " 'ban',\n",
              " 'ban',\n",
              " 'ban',\n",
              " 'band',\n",
              " 'band',\n",
              " 'band',\n",
              " 'bandito',\n",
              " 'bandsaw',\n",
              " 'banjoes',\n",
              " 'banned',\n",
              " 'banned',\n",
              " 'baord',\n",
              " 'bar',\n",
              " 'bar',\n",
              " 'bar',\n",
              " 'bar',\n",
              " 'bar',\n",
              " 'bar',\n",
              " 'barbie',\n",
              " 'barbie',\n",
              " 'barbie',\n",
              " 'barbie',\n",
              " 'bare',\n",
              " 'bare',\n",
              " 'bare',\n",
              " 'barely',\n",
              " 'bares',\n",
              " 'barfights',\n",
              " 'barks',\n",
              " 'barn',\n",
              " 'barrel',\n",
              " 'base',\n",
              " 'bases',\n",
              " 'basically',\n",
              " 'basket',\n",
              " 'basket',\n",
              " 'battery',\n",
              " 'battery',\n",
              " 'bay',\n",
              " 'bay',\n",
              " 'bbbbbyyyyyyyeeeeeeeee',\n",
              " 'bbiam',\n",
              " 'bbl',\n",
              " 'bbl',\n",
              " 'bbl',\n",
              " 'bbl',\n",
              " 'bbl',\n",
              " 'bbl',\n",
              " 'bbs',\n",
              " 'bbs',\n",
              " 'bbs',\n",
              " 'bc',\n",
              " 'be',\n",
              " 'be',\n",
              " 'be',\n",
              " 'be',\n",
              " 'be',\n",
              " 'be',\n",
              " 'be',\n",
              " 'be',\n",
              " 'be',\n",
              " 'be',\n",
              " 'be',\n",
              " 'be',\n",
              " 'be',\n",
              " 'be',\n",
              " 'be',\n",
              " 'be',\n",
              " 'be',\n",
              " 'be',\n",
              " 'be',\n",
              " 'be',\n",
              " 'be',\n",
              " 'be',\n",
              " 'be',\n",
              " 'be',\n",
              " 'be',\n",
              " 'be',\n",
              " 'be',\n",
              " 'be',\n",
              " 'be',\n",
              " 'be',\n",
              " 'be',\n",
              " 'be',\n",
              " 'be',\n",
              " 'be',\n",
              " 'be',\n",
              " 'be',\n",
              " 'be',\n",
              " 'be',\n",
              " 'be',\n",
              " 'be',\n",
              " 'be',\n",
              " 'be',\n",
              " 'be',\n",
              " 'be',\n",
              " 'be',\n",
              " 'be',\n",
              " 'be',\n",
              " 'be',\n",
              " 'be',\n",
              " 'be',\n",
              " 'be',\n",
              " 'be',\n",
              " 'be',\n",
              " 'be',\n",
              " 'be',\n",
              " 'be',\n",
              " 'be',\n",
              " 'be',\n",
              " 'be',\n",
              " 'be',\n",
              " 'be',\n",
              " 'be',\n",
              " 'be',\n",
              " 'be',\n",
              " 'be',\n",
              " 'be',\n",
              " 'be',\n",
              " 'be',\n",
              " 'be',\n",
              " 'be',\n",
              " 'be',\n",
              " 'be',\n",
              " 'be',\n",
              " 'be',\n",
              " 'be',\n",
              " 'be',\n",
              " 'be',\n",
              " 'be',\n",
              " 'be',\n",
              " 'be',\n",
              " 'be',\n",
              " 'be',\n",
              " 'be',\n",
              " 'be',\n",
              " 'be',\n",
              " 'be',\n",
              " 'be',\n",
              " 'be',\n",
              " 'be',\n",
              " 'be',\n",
              " 'be',\n",
              " 'be',\n",
              " 'be',\n",
              " 'be',\n",
              " 'be',\n",
              " 'be',\n",
              " 'be',\n",
              " 'be',\n",
              " 'be',\n",
              " 'be',\n",
              " 'be',\n",
              " 'be',\n",
              " 'be',\n",
              " 'be',\n",
              " 'be',\n",
              " 'be',\n",
              " 'be',\n",
              " 'beach',\n",
              " 'beach',\n",
              " 'beach',\n",
              " 'beach',\n",
              " 'beach',\n",
              " 'beach',\n",
              " 'beach',\n",
              " 'beachhhh',\n",
              " 'beam',\n",
              " 'beams',\n",
              " 'beanbag',\n",
              " 'beanbag',\n",
              " 'beanbag',\n",
              " 'beans',\n",
              " 'bear',\n",
              " 'bear',\n",
              " 'bears',\n",
              " 'bears',\n",
              " 'bears',\n",
              " 'beat',\n",
              " 'beat',\n",
              " 'beat',\n",
              " 'beat',\n",
              " 'beaten',\n",
              " 'beaten',\n",
              " 'beatles',\n",
              " 'beats',\n",
              " 'beattles',\n",
              " 'beattles',\n",
              " 'beautiful',\n",
              " 'beautiful',\n",
              " 'because',\n",
              " 'because',\n",
              " 'because',\n",
              " 'because',\n",
              " 'because',\n",
              " 'because',\n",
              " 'because',\n",
              " 'because',\n",
              " 'because',\n",
              " 'because',\n",
              " 'because',\n",
              " 'because',\n",
              " 'because',\n",
              " 'beckley',\n",
              " 'become',\n",
              " 'become',\n",
              " 'become',\n",
              " 'bed',\n",
              " 'bed',\n",
              " 'bed',\n",
              " 'bed',\n",
              " 'bed',\n",
              " 'bed',\n",
              " 'bed',\n",
              " 'bed',\n",
              " 'bedford',\n",
              " 'bedroom',\n",
              " 'beeeeehave',\n",
              " 'beeehave',\n",
              " 'been',\n",
              " 'been',\n",
              " 'been',\n",
              " 'been',\n",
              " 'been',\n",
              " 'been',\n",
              " 'been',\n",
              " 'been',\n",
              " 'been',\n",
              " 'been',\n",
              " 'been',\n",
              " 'been',\n",
              " 'been',\n",
              " 'been',\n",
              " 'been',\n",
              " 'been',\n",
              " 'been',\n",
              " 'been',\n",
              " 'been',\n",
              " 'been',\n",
              " 'been',\n",
              " 'been',\n",
              " 'been',\n",
              " 'been',\n",
              " 'been',\n",
              " 'been',\n",
              " 'been',\n",
              " 'been',\n",
              " 'been',\n",
              " 'been',\n",
              " 'been',\n",
              " 'been',\n",
              " 'been',\n",
              " 'been',\n",
              " 'been',\n",
              " 'been',\n",
              " 'been',\n",
              " 'been',\n",
              " 'been',\n",
              " 'been',\n",
              " 'been',\n",
              " 'been',\n",
              " 'been',\n",
              " 'been',\n",
              " 'been',\n",
              " 'been',\n",
              " 'been',\n",
              " 'been',\n",
              " 'been',\n",
              " 'been',\n",
              " 'been',\n",
              " 'been',\n",
              " 'been',\n",
              " 'been',\n",
              " 'been',\n",
              " 'been',\n",
              " 'been',\n",
              " 'beer',\n",
              " 'beer',\n",
              " 'beer',\n",
              " 'beer',\n",
              " 'beer',\n",
              " 'before',\n",
              " 'before',\n",
              " 'before',\n",
              " 'before',\n",
              " 'before',\n",
              " 'before',\n",
              " 'before',\n",
              " 'before',\n",
              " 'before',\n",
              " 'before',\n",
              " 'before',\n",
              " 'before',\n",
              " 'before',\n",
              " 'beg',\n",
              " 'begin',\n",
              " 'behave',\n",
              " 'behave',\n",
              " 'behind',\n",
              " 'behind',\n",
              " 'behind',\n",
              " 'behind',\n",
              " 'bein',\n",
              " 'being',\n",
              " 'being',\n",
              " 'being',\n",
              " 'being',\n",
              " 'being',\n",
              " 'being',\n",
              " 'being',\n",
              " 'being',\n",
              " 'being',\n",
              " 'being',\n",
              " 'being',\n",
              " 'being',\n",
              " 'beleive',\n",
              " 'believe',\n",
              " 'believe',\n",
              " 'believe',\n",
              " 'believe',\n",
              " 'believe',\n",
              " 'believe',\n",
              " 'belive',\n",
              " 'bell',\n",
              " 'belly',\n",
              " 'belly',\n",
              " 'belong',\n",
              " 'belong',\n",
              " 'belongings',\n",
              " 'ben',\n",
              " 'bend',\n",
              " 'bend',\n",
              " 'bend',\n",
              " 'benz',\n",
              " 'bes',\n",
              " 'beside',\n",
              " 'besides',\n",
              " 'besides',\n",
              " 'besides',\n",
              " 'best',\n",
              " 'best',\n",
              " 'best',\n",
              " 'best',\n",
              " 'best',\n",
              " 'best',\n",
              " 'best',\n",
              " 'best',\n",
              " 'best',\n",
              " 'bet',\n",
              " 'bet',\n",
              " 'bet',\n",
              " 'bet',\n",
              " 'bet',\n",
              " 'bet',\n",
              " 'bet',\n",
              " 'bet',\n",
              " 'betrayal',\n",
              " 'betta',\n",
              " 'better',\n",
              " 'better',\n",
              " 'better',\n",
              " 'better',\n",
              " 'better',\n",
              " 'better',\n",
              " 'better',\n",
              " 'better',\n",
              " 'better',\n",
              " 'better',\n",
              " 'better',\n",
              " 'better',\n",
              " 'better',\n",
              " 'better',\n",
              " 'better',\n",
              " 'better',\n",
              " 'better',\n",
              " 'better',\n",
              " 'better',\n",
              " 'better',\n",
              " 'better',\n",
              " 'better',\n",
              " 'better',\n",
              " 'between',\n",
              " 'between',\n",
              " 'between',\n",
              " 'between',\n",
              " 'beuty',\n",
              " 'bf',\n",
              " 'bf',\n",
              " 'bi',\n",
              " 'bi',\n",
              " 'bi',\n",
              " 'bi',\n",
              " 'bi',\n",
              " 'bi',\n",
              " 'bi',\n",
              " 'bi',\n",
              " 'bi',\n",
              " 'bi',\n",
              " 'biatch',\n",
              " 'biatch',\n",
              " 'bible',\n",
              " 'bible',\n",
              " 'bible',\n",
              " 'biebsa',\n",
              " 'bied',\n",
              " 'big',\n",
              " 'big',\n",
              " 'big',\n",
              " 'big',\n",
              " 'big',\n",
              " 'big',\n",
              " 'big',\n",
              " 'big',\n",
              " 'big',\n",
              " 'big',\n",
              " 'big',\n",
              " 'big',\n",
              " 'bigest',\n",
              " 'biggest',\n",
              " 'biiiatch',\n",
              " 'bike',\n",
              " 'bikes',\n",
              " 'bikini',\n",
              " 'bio',\n",
              " 'bird',\n",
              " 'birfday',\n",
              " 'birthday',\n",
              " 'birthday',\n",
              " 'bisexual',\n",
              " 'bishes',\n",
              " 'bit',\n",
              " 'bit',\n",
              " 'bit',\n",
              " 'bit',\n",
              " 'bit',\n",
              " 'bit',\n",
              " 'bit',\n",
              " 'bit',\n",
              " 'bit',\n",
              " 'bit',\n",
              " 'bit',\n",
              " 'bit',\n",
              " 'bitch',\n",
              " 'bitch',\n",
              " 'bitch',\n",
              " 'bitch',\n",
              " 'bitches',\n",
              " 'bitches',\n",
              " 'bitches',\n",
              " 'bitdh',\n",
              " 'bite',\n",
              " 'bite',\n",
              " 'bites',\n",
              " 'bites',\n",
              " 'biyatch',\n",
              " 'biz',\n",
              " 'biz',\n",
              " 'bj',\n",
              " 'black',\n",
              " 'black',\n",
              " 'black',\n",
              " 'black',\n",
              " 'black',\n",
              " 'black',\n",
              " 'black',\n",
              " 'black',\n",
              " 'blade',\n",
              " 'blade',\n",
              " 'blah',\n",
              " 'blah',\n",
              " 'blah',\n",
              " 'blah',\n",
              " 'blah',\n",
              " 'blah',\n",
              " 'blank',\n",
              " 'blank',\n",
              " 'blank',\n",
              " 'blank',\n",
              " 'blankie',\n",
              " 'blankie',\n",
              " 'blazed',\n",
              " 'bleach',\n",
              " 'blech',\n",
              " 'bless',\n",
              " 'blessings',\n",
              " 'blew',\n",
              " 'blew',\n",
              " 'blind',\n",
              " 'blind',\n",
              " 'blind',\n",
              " 'blinks',\n",
              " 'bliss',\n",
              " 'blocking',\n",
              " 'bloe',\n",
              " 'blood',\n",
              " 'blood',\n",
              " 'blood',\n",
              " 'blood',\n",
              " 'blood',\n",
              " 'blooded',\n",
              " 'bloody',\n",
              " 'blow',\n",
              " 'blowing',\n",
              " 'blowjob',\n",
              " 'blowup',\n",
              " 'blue',\n",
              " 'blue',\n",
              " 'blue',\n",
              " 'blue',\n",
              " 'blue',\n",
              " 'blue',\n",
              " 'blue',\n",
              " 'blue',\n",
              " 'blueberry',\n",
              " 'bluer',\n",
              " 'blues',\n",
              " 'blunt',\n",
              " 'board',\n",
              " 'board',\n",
              " 'bob',\n",
              " 'bob',\n",
              " 'bodies',\n",
              " 'bodies',\n",
              " 'body',\n",
              " 'boed',\n",
              " 'boght',\n",
              " 'boi',\n",
              " 'boing',\n",
              " 'boinked',\n",
              " 'bois',\n",
              " 'bomb',\n",
              " 'bone',\n",
              " 'boned',\n",
              " 'bones',\n",
              " 'bones',\n",
              " 'bong',\n",
              " 'boning',\n",
              " 'bonus',\n",
              " 'boo',\n",
              " 'boo',\n",
              " 'boo',\n",
              " 'boo',\n",
              " 'boo',\n",
              " 'booboo',\n",
              " 'boobs',\n",
              " 'boobs',\n",
              " 'book',\n",
              " 'book',\n",
              " 'book',\n",
              " 'book',\n",
              " 'book',\n",
              " 'book',\n",
              " 'book',\n",
              " 'book',\n",
              " 'book',\n",
              " 'boom',\n",
              " 'boooooooooooglyyyyyy',\n",
              " 'boost',\n",
              " 'boot',\n",
              " 'bootay',\n",
              " 'booted',\n",
              " 'booted',\n",
              " 'booted',\n",
              " 'boots',\n",
              " 'boots',\n",
              " 'booty',\n",
              " 'border',\n",
              " 'borderline',\n",
              " 'bored',\n",
              " 'bored',\n",
              " 'bored',\n",
              " 'bored',\n",
              " 'bored',\n",
              " 'bored',\n",
              " 'bored',\n",
              " 'bored',\n",
              " 'bored',\n",
              " 'bored',\n",
              " 'bored',\n",
              " 'bored',\n",
              " 'bored',\n",
              " 'bored',\n",
              " 'bored',\n",
              " 'bored',\n",
              " 'bored',\n",
              " 'bored',\n",
              " 'bored',\n",
              " 'bored',\n",
              " 'boredom',\n",
              " 'boring',\n",
              " 'boring',\n",
              " 'boring',\n",
              " 'boring',\n",
              " 'boring',\n",
              " 'boring',\n",
              " 'boring',\n",
              " 'born',\n",
              " 'born',\n",
              " 'born-again',\n",
              " 'born-again',\n",
              " 'bosom',\n",
              " 'boss',\n",
              " 'boss',\n",
              " 'boss',\n",
              " 'boss',\n",
              " 'boss',\n",
              " 'bossy',\n",
              " 'bot',\n",
              " 'bot',\n",
              " 'bot',\n",
              " 'bot',\n",
              " 'bot',\n",
              " 'bot',\n",
              " 'bot',\n",
              " 'bot',\n",
              " 'bot',\n",
              " 'bot',\n",
              " 'both',\n",
              " 'both',\n",
              " 'both',\n",
              " 'both',\n",
              " 'both',\n",
              " 'bother',\n",
              " 'bothering',\n",
              " 'bottle',\n",
              " 'bottle',\n",
              " 'bottle',\n",
              " 'bottle',\n",
              " 'bottle',\n",
              " 'bought',\n",
              " 'bounced',\n",
              " 'bouncer',\n",
              " 'bouncers',\n",
              " 'bound',\n",
              " 'bout',\n",
              " 'bout',\n",
              " 'bout',\n",
              " 'bout',\n",
              " 'bout',\n",
              " 'bout',\n",
              " 'bout',\n",
              " 'bout',\n",
              " 'bout',\n",
              " 'bout',\n",
              " 'bout',\n",
              " 'bout',\n",
              " 'bouts',\n",
              " 'bouts',\n",
              " 'bow',\n",
              " 'bowl',\n",
              " 'box',\n",
              " 'box',\n",
              " 'box',\n",
              " 'box',\n",
              " 'boy',\n",
              " 'boy',\n",
              " 'boy',\n",
              " 'boy',\n",
              " 'boy',\n",
              " 'boy',\n",
              " 'boy',\n",
              " 'boy',\n",
              " 'boy',\n",
              " 'boy',\n",
              " 'boy',\n",
              " 'boy',\n",
              " 'boy',\n",
              " 'boyfriend',\n",
              " 'boys',\n",
              " 'boys',\n",
              " 'boys',\n",
              " 'boys',\n",
              " 'boys',\n",
              " 'bra',\n",
              " 'brad',\n",
              " 'brady',\n",
              " 'brain',\n",
              " 'brain',\n",
              " 'brakes',\n",
              " 'brass',\n",
              " 'brat',\n",
              " 'brb',\n",
              " 'brb',\n",
              " 'brb',\n",
              " 'brb',\n",
              " 'brb',\n",
              " 'brb',\n",
              " 'brb',\n",
              " 'brb',\n",
              " 'brb',\n",
              " 'brb',\n",
              " 'brb',\n",
              " 'brb',\n",
              " 'brb',\n",
              " 'brb',\n",
              " 'brb',\n",
              " 'brb',\n",
              " 'brb',\n",
              " 'brb',\n",
              " 'brb',\n",
              " 'brb',\n",
              " 'brb',\n",
              " 'brb',\n",
              " 'brb',\n",
              " 'brb',\n",
              " 'brb',\n",
              " 'brb',\n",
              " 'brb',\n",
              " 'brb',\n",
              " 'brb',\n",
              " 'brb',\n",
              " 'brb',\n",
              " 'brb',\n",
              " 'brb',\n",
              " 'brbbb',\n",
              " 'bread',\n",
              " 'bread',\n",
              " 'break',\n",
              " 'break',\n",
              " 'breaks',\n",
              " 'breath',\n",
              " 'breath',\n",
              " 'breathe',\n",
              " 'breathe',\n",
              " 'bred',\n",
              " 'breeding',\n",
              " 'bright',\n",
              " 'brightened',\n",
              " 'bring',\n",
              " 'bring',\n",
              " 'bring',\n",
              " 'bring',\n",
              " 'brings',\n",
              " 'bro',\n",
              " 'bro',\n",
              " 'bro',\n",
              " 'broke',\n",
              " 'broke',\n",
              " 'broke',\n",
              " 'broke',\n",
              " 'broke',\n",
              " 'broke',\n",
              " 'brooklyn',\n",
              " 'brother',\n",
              " 'brothers',\n",
              " 'brought',\n",
              " 'brought',\n",
              " 'brown',\n",
              " 'brown',\n",
              " 'brrrrrrr',\n",
              " 'bruises',\n",
              " 'bruises',\n",
              " 'brunswick',\n",
              " 'brwn',\n",
              " 'btw',\n",
              " ...]"
            ]
          },
          "metadata": {},
          "execution_count": 42
        }
      ]
    },
    {
      "cell_type": "markdown",
      "source": [
        "16. Type the expression list(range(10)) at the interpreter prompt. Now try list(range(10, 20)), list(range(10, 20, 2)), and list(range(20, 10, -2)). We will see a variety of uses for this built-in function in later chapters."
      ],
      "metadata": {
        "id": "zSLK0WP21KLm"
      }
    },
    {
      "cell_type": "code",
      "source": [
        "list(range(10))"
      ],
      "metadata": {
        "colab": {
          "base_uri": "https://localhost:8080/"
        },
        "id": "paEro1Ih1M3g",
        "outputId": "5e5411bf-8921-4150-b466-9db15c0f08ae"
      },
      "execution_count": null,
      "outputs": [
        {
          "output_type": "execute_result",
          "data": {
            "text/plain": [
              "[0, 1, 2, 3, 4, 5, 6, 7, 8, 9]"
            ]
          },
          "metadata": {},
          "execution_count": 43
        }
      ]
    },
    {
      "cell_type": "code",
      "source": [
        "list(range(10, 20))"
      ],
      "metadata": {
        "colab": {
          "base_uri": "https://localhost:8080/"
        },
        "id": "cM_AOFn2Iitw",
        "outputId": "55329568-b18a-4ed0-9e58-616539c77c6d"
      },
      "execution_count": null,
      "outputs": [
        {
          "output_type": "execute_result",
          "data": {
            "text/plain": [
              "[10, 11, 12, 13, 14, 15, 16, 17, 18, 19]"
            ]
          },
          "metadata": {},
          "execution_count": 44
        }
      ]
    },
    {
      "cell_type": "code",
      "source": [
        "list(range(10, 20, 2))"
      ],
      "metadata": {
        "colab": {
          "base_uri": "https://localhost:8080/"
        },
        "id": "Vq3ryNFZIlNN",
        "outputId": "639bcc11-667e-4e67-8a97-72614af1f6b2"
      },
      "execution_count": null,
      "outputs": [
        {
          "output_type": "execute_result",
          "data": {
            "text/plain": [
              "[10, 12, 14, 16, 18]"
            ]
          },
          "metadata": {},
          "execution_count": 45
        }
      ]
    },
    {
      "cell_type": "code",
      "source": [
        "list(range(20, 10, -2))"
      ],
      "metadata": {
        "colab": {
          "base_uri": "https://localhost:8080/"
        },
        "id": "7gqZNMKXInCx",
        "outputId": "841db349-865c-49d5-ab68-4827ad4d8151"
      },
      "execution_count": null,
      "outputs": [
        {
          "output_type": "execute_result",
          "data": {
            "text/plain": [
              "[20, 18, 16, 14, 12]"
            ]
          },
          "metadata": {},
          "execution_count": 46
        }
      ]
    },
    {
      "cell_type": "markdown",
      "source": [
        "17. Use text9.index() to find the index of the word sunset. You'll need to insert this word as an argument between the parentheses. By a process of trial and error, find the slice for the complete sentence that contains this word."
      ],
      "metadata": {
        "id": "YYpqYYdN1MdY"
      }
    },
    {
      "cell_type": "code",
      "source": [
        "text9.index(\"sunset\")"
      ],
      "metadata": {
        "id": "MQ4cKAVc1Qom",
        "colab": {
          "base_uri": "https://localhost:8080/"
        },
        "outputId": "7ee08d33-04d3-45fd-f6b1-de151280b25a"
      },
      "execution_count": null,
      "outputs": [
        {
          "output_type": "execute_result",
          "data": {
            "text/plain": [
              "629"
            ]
          },
          "metadata": {},
          "execution_count": 48
        }
      ]
    },
    {
      "cell_type": "code",
      "source": [
        "text9[622:644]"
      ],
      "metadata": {
        "colab": {
          "base_uri": "https://localhost:8080/"
        },
        "id": "wkwtISjjemhU",
        "outputId": "8f8de137-6fbd-4e70-c9ef-6d9891519a46"
      },
      "execution_count": null,
      "outputs": [
        {
          "output_type": "execute_result",
          "data": {
            "text/plain": [
              "['suburb',\n",
              " 'of',\n",
              " 'Saffron',\n",
              " 'Park',\n",
              " 'lay',\n",
              " 'on',\n",
              " 'the',\n",
              " 'sunset',\n",
              " 'side',\n",
              " 'of',\n",
              " 'London',\n",
              " ',',\n",
              " 'as',\n",
              " 'red',\n",
              " 'and',\n",
              " 'ragged',\n",
              " 'as',\n",
              " 'a',\n",
              " 'cloud',\n",
              " 'of',\n",
              " 'sunset',\n",
              " '.']"
            ]
          },
          "metadata": {},
          "execution_count": 60
        }
      ]
    },
    {
      "cell_type": "markdown",
      "source": [
        "18 .Using list addition, and the set and sorted operations, compute the vocabulary of the sentences sent1 ... sent8."
      ],
      "metadata": {
        "id": "iyznAtL31QDr"
      }
    },
    {
      "cell_type": "code",
      "source": [
        "sorted(set(word.lower() for word in (sent1 + sent2 + sent3 + sent4 + sent5 + sent6 + sent7 + sent8)))[11:]"
      ],
      "metadata": {
        "id": "qfsyy-fR2Ne8",
        "colab": {
          "base_uri": "https://localhost:8080/"
        },
        "outputId": "caa4c93b-c34d-4b95-ebb9-94a2c8d4bd4d"
      },
      "execution_count": null,
      "outputs": [
        {
          "output_type": "execute_result",
          "data": {
            "text/plain": [
              "['a',\n",
              " 'and',\n",
              " 'arthur',\n",
              " 'as',\n",
              " 'attrac',\n",
              " 'been',\n",
              " 'beginning',\n",
              " 'board',\n",
              " 'call',\n",
              " 'citizens',\n",
              " 'clop',\n",
              " 'created',\n",
              " 'dashwood',\n",
              " 'director',\n",
              " 'discreet',\n",
              " 'earth',\n",
              " 'encounters',\n",
              " 'family',\n",
              " 'fellow',\n",
              " 'for',\n",
              " 'god',\n",
              " 'had',\n",
              " 'have',\n",
              " 'heaven',\n",
              " 'house',\n",
              " 'i',\n",
              " 'in',\n",
              " 'ishmael',\n",
              " 'join',\n",
              " 'king',\n",
              " 'lady',\n",
              " 'lol',\n",
              " 'long',\n",
              " 'male',\n",
              " 'me',\n",
              " 'nonexecutive',\n",
              " 'nov.',\n",
              " 'of',\n",
              " 'old',\n",
              " 'older',\n",
              " 'people',\n",
              " 'pierre',\n",
              " 'pming',\n",
              " 'problem',\n",
              " 'representatives',\n",
              " 'scene',\n",
              " 'seeks',\n",
              " 'senate',\n",
              " 'settled',\n",
              " 'sexy',\n",
              " 'single',\n",
              " 'sussex',\n",
              " 'the',\n",
              " 'there',\n",
              " 'to',\n",
              " 'vinken',\n",
              " 'whoa',\n",
              " 'will',\n",
              " 'wind',\n",
              " 'with',\n",
              " 'years']"
            ]
          },
          "metadata": {},
          "execution_count": 70
        }
      ]
    },
    {
      "cell_type": "markdown",
      "source": [
        "19. What is the difference between the following two lines? Which one will give a larger value? Will this be the case for other texts?\n",
        "\n",
        "<code>\n",
        "sorted(set(w.lower() for w in text1))<br>\n",
        "sorted(w.lower() for w in set(text1))\n",
        "</code>"
      ],
      "metadata": {
        "id": "KJu94yxZ2N6W"
      }
    },
    {
      "cell_type": "code",
      "source": [
        "print(\"My conjecture is that the second statement will be have a greater length than the first. This is because the second allows for the duplicates of words that in the original text were differently cased.\")"
      ],
      "metadata": {
        "id": "OngZ0tju2hwZ",
        "colab": {
          "base_uri": "https://localhost:8080/"
        },
        "outputId": "c409394a-7be2-451f-fbcb-fee2bf8306f4"
      },
      "execution_count": null,
      "outputs": [
        {
          "output_type": "stream",
          "name": "stdout",
          "text": [
            "My conjecture is that the second statement will be have a greater length than the first. This is because the second allows for the duplicates of words that in the original text were differently cased.\n"
          ]
        }
      ]
    },
    {
      "cell_type": "code",
      "source": [
        "len(list(sorted(set(w.lower() for w in text1)))) <  len(sorted(w.lower() for w in set(text1)))"
      ],
      "metadata": {
        "colab": {
          "base_uri": "https://localhost:8080/"
        },
        "id": "yezfbBHwgHvA",
        "outputId": "edab1d43-e35a-49d4-a9d2-e2e1c49e871a"
      },
      "execution_count": null,
      "outputs": [
        {
          "output_type": "execute_result",
          "data": {
            "text/plain": [
              "True"
            ]
          },
          "metadata": {},
          "execution_count": 79
        }
      ]
    },
    {
      "cell_type": "markdown",
      "source": [
        "20. What is the difference between the following two tests: w.isupper() and not w.islower()?"
      ],
      "metadata": {
        "id": "DvMLqE2u22cV"
      }
    },
    {
      "cell_type": "code",
      "source": [
        "w = \"Marlin\""
      ],
      "metadata": {
        "id": "UYIMlGDehHZn"
      },
      "execution_count": null,
      "outputs": []
    },
    {
      "cell_type": "code",
      "source": [
        "w.isupper()"
      ],
      "metadata": {
        "colab": {
          "base_uri": "https://localhost:8080/"
        },
        "id": "GYzDw7JBgj9m",
        "outputId": "bf80d44d-3027-4b6d-befc-1f1f546d2781"
      },
      "execution_count": null,
      "outputs": [
        {
          "output_type": "execute_result",
          "data": {
            "text/plain": [
              "False"
            ]
          },
          "metadata": {},
          "execution_count": 94
        }
      ]
    },
    {
      "cell_type": "code",
      "source": [
        "not w.islower()"
      ],
      "metadata": {
        "colab": {
          "base_uri": "https://localhost:8080/"
        },
        "id": "K9PNDSeghJ4W",
        "outputId": "9e938ce2-9320-4546-e183-40dbb99edc56"
      },
      "execution_count": null,
      "outputs": [
        {
          "output_type": "execute_result",
          "data": {
            "text/plain": [
              "True"
            ]
          },
          "metadata": {},
          "execution_count": 95
        }
      ]
    },
    {
      "cell_type": "code",
      "source": [
        "print(\"In the case of mixed case text. w.isupper() is false whereas not w.islower() is true (as w.islower() is also false in the case of mixed case text).\")"
      ],
      "metadata": {
        "colab": {
          "base_uri": "https://localhost:8080/"
        },
        "id": "MK5ccYUQhbY-",
        "outputId": "02c85bef-e68c-47e7-b7b2-8cea0a4b38f0"
      },
      "execution_count": null,
      "outputs": [
        {
          "output_type": "stream",
          "name": "stdout",
          "text": [
            "In the case of mixed case text. w.isupper() is false whereas not w.islower() is true (as w.islower() is also false in the case of mixed case text).\n"
          ]
        }
      ]
    },
    {
      "cell_type": "markdown",
      "source": [
        "21. Write the slice expression that extracts the last two words of text2."
      ],
      "metadata": {
        "id": "1gWYIW-wiYOI"
      }
    },
    {
      "cell_type": "code",
      "source": [
        "text2[-2:]"
      ],
      "metadata": {
        "colab": {
          "base_uri": "https://localhost:8080/"
        },
        "id": "5iFTg8w6iX4z",
        "outputId": "b5b9a35f-128a-47e1-b70a-cdc363a03e45"
      },
      "execution_count": null,
      "outputs": [
        {
          "output_type": "execute_result",
          "data": {
            "text/plain": [
              "['THE', 'END']"
            ]
          },
          "metadata": {},
          "execution_count": 103
        }
      ]
    },
    {
      "cell_type": "markdown",
      "source": [
        "22. Find all the four-letter words in the Chat Corpus (text5). With the help of a frequency distribution (FreqDist), show these words in decreasing order of frequency."
      ],
      "metadata": {
        "id": "eZv68yn2iaUW"
      }
    },
    {
      "cell_type": "code",
      "source": [
        "sorted(FreqDist(word for word in text5 if len(word) == 4).items(), key=(lambda x: -x[1]))"
      ],
      "metadata": {
        "colab": {
          "base_uri": "https://localhost:8080/"
        },
        "id": "vC1lDWzaiflZ",
        "outputId": "dc331daf-a8d5-45b3-e755-745ea03f2ae6"
      },
      "execution_count": null,
      "outputs": [
        {
          "output_type": "execute_result",
          "data": {
            "text/plain": [
              "[('JOIN', 1021),\n",
              " ('PART', 1016),\n",
              " ('that', 274),\n",
              " ('what', 183),\n",
              " ('here', 181),\n",
              " ('....', 170),\n",
              " ('have', 164),\n",
              " ('like', 156),\n",
              " ('with', 152),\n",
              " ('chat', 142),\n",
              " ('your', 137),\n",
              " ('good', 130),\n",
              " ('just', 125),\n",
              " ('lmao', 107),\n",
              " ('know', 103),\n",
              " ('room', 98),\n",
              " ('from', 92),\n",
              " ('this', 86),\n",
              " ('well', 81),\n",
              " ('back', 78),\n",
              " ('hiya', 78),\n",
              " ('they', 77),\n",
              " ('dont', 75),\n",
              " ('yeah', 75),\n",
              " ('want', 71),\n",
              " ('love', 60),\n",
              " ('guys', 58),\n",
              " ('some', 58),\n",
              " ('been', 57),\n",
              " ('talk', 56),\n",
              " ('nice', 52),\n",
              " ('time', 50),\n",
              " ('when', 48),\n",
              " ('haha', 44),\n",
              " ('make', 44),\n",
              " ('girl', 43),\n",
              " ('need', 43),\n",
              " ('U122', 42),\n",
              " ('MODE', 41),\n",
              " ('will', 40),\n",
              " ('much', 40),\n",
              " ('then', 40),\n",
              " ('over', 39),\n",
              " ('work', 38),\n",
              " ('were', 38),\n",
              " ('take', 37),\n",
              " ('U121', 36),\n",
              " ('U115', 36),\n",
              " ('song', 36),\n",
              " ('even', 35),\n",
              " ('does', 35),\n",
              " ('seen', 35),\n",
              " ('U156', 35),\n",
              " ('U105', 35),\n",
              " ('more', 34),\n",
              " ('damn', 34),\n",
              " ('only', 33),\n",
              " ('come', 33),\n",
              " ('hell', 29),\n",
              " ('long', 28),\n",
              " ('them', 28),\n",
              " ('name', 27),\n",
              " ('tell', 27),\n",
              " ('away', 26),\n",
              " ('sure', 26),\n",
              " ('look', 26),\n",
              " ('baby', 26),\n",
              " ('call', 26),\n",
              " ('play', 25),\n",
              " ('U110', 25),\n",
              " ('U114', 25),\n",
              " ('NICK', 24),\n",
              " ('down', 24),\n",
              " ('cool', 24),\n",
              " ('sexy', 23),\n",
              " ('many', 23),\n",
              " ('hate', 23),\n",
              " ('said', 23),\n",
              " ('last', 22),\n",
              " ('ever', 22),\n",
              " ('hear', 21),\n",
              " ('life', 21),\n",
              " ('live', 20),\n",
              " ('feel', 19),\n",
              " ('very', 19),\n",
              " ('mean', 19),\n",
              " ('give', 19),\n",
              " ('same', 19),\n",
              " ('must', 19),\n",
              " ('stop', 19),\n",
              " ('LMAO', 19),\n",
              " ('!!!!', 18),\n",
              " ('hugs', 18),\n",
              " ('What', 18),\n",
              " ('find', 18),\n",
              " ('cant', 18),\n",
              " ('left', 17),\n",
              " ('????', 17),\n",
              " ('shit', 17),\n",
              " ('nite', 17),\n",
              " ('busy', 17),\n",
              " ('hair', 17),\n",
              " ('lost', 17),\n",
              " ('U104', 17),\n",
              " ('fine', 16),\n",
              " ('real', 16),\n",
              " ('game', 16),\n",
              " ('fuck', 15),\n",
              " ('sits', 15),\n",
              " ('eyes', 15),\n",
              " ('lets', 15),\n",
              " ('heya', 15),\n",
              " ('kill', 15),\n",
              " ('read', 14),\n",
              " ('shut', 14),\n",
              " ('wait', 14),\n",
              " ('goes', 14),\n",
              " ('keep', 14),\n",
              " ('true', 14),\n",
              " ('pick', 13),\n",
              " ('free', 13),\n",
              " ('else', 13),\n",
              " ('near', 13),\n",
              " ('nope', 13),\n",
              " ('U168', 13),\n",
              " ('hope', 12),\n",
              " ('head', 12),\n",
              " ('male', 12),\n",
              " ('than', 12),\n",
              " ('gets', 12),\n",
              " ('cold', 12),\n",
              " ('hehe', 12),\n",
              " ('bout', 12),\n",
              " ('stay', 12),\n",
              " ('used', 12),\n",
              " ('awww', 12),\n",
              " ('told', 12),\n",
              " ('This', 12),\n",
              " ('U102', 12),\n",
              " ('doin', 11),\n",
              " ('kids', 11),\n",
              " ('perv', 11),\n",
              " ('wont', 11),\n",
              " ('face', 11),\n",
              " ('home', 11),\n",
              " ('year', 11),\n",
              " ('babe', 11),\n",
              " ('into', 11),\n",
              " ('yall', 11),\n",
              " ('.. .', 11),\n",
              " ('U119', 11),\n",
              " ('U107', 11),\n",
              " ('hard', 10),\n",
              " ('show', 10),\n",
              " ('U101', 10),\n",
              " ('once', 10),\n",
              " ('Well', 10),\n",
              " ('help', 10),\n",
              " ('mind', 10),\n",
              " ('Yeah', 10),\n",
              " ('week', 10),\n",
              " ('Liam', 10),\n",
              " ('U132', 10),\n",
              " ('pics', 9),\n",
              " ('such', 9),\n",
              " ('type', 9),\n",
              " ('best', 9),\n",
              " ('neck', 9),\n",
              " ('dang', 9),\n",
              " ('dead', 9),\n",
              " ('runs', 9),\n",
              " ('aint', 9),\n",
              " ('rock', 9),\n",
              " ('days', 9),\n",
              " ('mine', 9),\n",
              " ('book', 9),\n",
              " ('crap', 9),\n",
              " ('soon', 9),\n",
              " ('care', 9),\n",
              " ('full', 9),\n",
              " ('kiss', 9),\n",
              " ('hour', 9),\n",
              " ('nick', 9),\n",
              " ('sick', 9),\n",
              " ('; ..', 9),\n",
              " ('hmmm', 9),\n",
              " ('U139', 8),\n",
              " ('word', 8),\n",
              " ('heyy', 8),\n",
              " ('case', 8),\n",
              " ('wana', 8),\n",
              " ('hows', 8),\n",
              " ('went', 8),\n",
              " ('lady', 8),\n",
              " ('blue', 8),\n",
              " ('says', 8),\n",
              " ('suck', 8),\n",
              " ('made', 8),\n",
              " ('wife', 8),\n",
              " ('sang', 8),\n",
              " ('U144', 8),\n",
              " ('fast', 7),\n",
              " ('rule', 7),\n",
              " ('dude', 7),\n",
              " ('okay', 7),\n",
              " ('alot', 7),\n",
              " ('hand', 7),\n",
              " ('took', 7),\n",
              " ('wear', 7),\n",
              " ('Hiya', 7),\n",
              " ('kick', 7),\n",
              " ('ahhh', 7),\n",
              " ('dear', 7),\n",
              " ('That', 7),\n",
              " ('U108', 7),\n",
              " ('U169', 7),\n",
              " ('U129', 6),\n",
              " ('U116', 6),\n",
              " ('most', 6),\n",
              " ('thru', 6),\n",
              " ('U165', 6),\n",
              " ('list', 6),\n",
              " ('seem', 6),\n",
              " ('sing', 6),\n",
              " ('next', 6),\n",
              " ('done', 6),\n",
              " ('ride', 6),\n",
              " ('comp', 6),\n",
              " ('main', 6),\n",
              " ('))))', 6),\n",
              " ('goin', 6),\n",
              " ('U520', 6),\n",
              " ('pink', 6),\n",
              " ('poor', 6),\n",
              " ('gone', 6),\n",
              " ('oops', 6),\n",
              " ('knew', 6),\n",
              " ('<---', 6),\n",
              " ('ball', 6),\n",
              " ('send', 6),\n",
              " ('Song', 6),\n",
              " ('blah', 6),\n",
              " ('They', 6),\n",
              " ('part', 6),\n",
              " ('U103', 6),\n",
              " ('U120', 6),\n",
              " ('Last', 6),\n",
              " ('whos', 6),\n",
              " ('food', 6),\n",
              " ('U142', 6),\n",
              " ('sock', 6),\n",
              " ('U197', 6),\n",
              " ('legs', 5),\n",
              " ('fire', 5),\n",
              " ('warm', 5),\n",
              " ('late', 5),\n",
              " ('hang', 5),\n",
              " ('miss', 5),\n",
              " ('boys', 5),\n",
              " ('land', 5),\n",
              " ('nose', 5),\n",
              " ('lick', 5),\n",
              " ('caps', 5),\n",
              " ('wish', 5),\n",
              " ('U128', 5),\n",
              " ('came', 5),\n",
              " ('cali', 5),\n",
              " ('roll', 5),\n",
              " ('easy', 5),\n",
              " ('lose', 5),\n",
              " ('When', 5),\n",
              " ('soul', 5),\n",
              " ('luck', 5),\n",
              " ('also', 5),\n",
              " ('kool', 5),\n",
              " ('fall', 5),\n",
              " ('boss', 5),\n",
              " ('beer', 5),\n",
              " ('ohhh', 5),\n",
              " ('####', 5),\n",
              " ('wall', 5),\n",
              " ('Have', 5),\n",
              " ('meet', 5),\n",
              " ('till', 5),\n",
              " ('feet', 5),\n",
              " ('xbox', 5),\n",
              " ('idea', 5),\n",
              " ('heck', 5),\n",
              " ('joke', 5),\n",
              " ('fool', 5),\n",
              " ('felt', 5),\n",
              " ('yoko', 5),\n",
              " ('meds', 5),\n",
              " ('both', 5),\n",
              " ('Lime', 5),\n",
              " ('glad', 4),\n",
              " ('U133', 4),\n",
              " ('U126', 4),\n",
              " ('jerk', 4),\n",
              " ('ugly', 4),\n",
              " ('date', 4),\n",
              " ('ummm', 4),\n",
              " ('quit', 4),\n",
              " ('rest', 4),\n",
              " ('door', 4),\n",
              " ('none', 4),\n",
              " ('self', 4),\n",
              " ('pass', 4),\n",
              " ('line', 4),\n",
              " ('cute', 4),\n",
              " ('holy', 4),\n",
              " ('hook', 4),\n",
              " ('Like', 4),\n",
              " ('each', 4),\n",
              " ('open', 4),\n",
              " ('high', 4),\n",
              " ('ouch', 4),\n",
              " ('evil', 4),\n",
              " ('fart', 4),\n",
              " ('grrr', 4),\n",
              " ('pain', 4),\n",
              " ('pfft', 4),\n",
              " ('sigh', 4),\n",
              " ('shes', 4),\n",
              " ('ROOM', 4),\n",
              " (',,,,', 4),\n",
              " ('lord', 4),\n",
              " ('mmmm', 4),\n",
              " ('ones', 4),\n",
              " ('huge', 4),\n",
              " ('woot', 4),\n",
              " ('shot', 4),\n",
              " ('team', 4),\n",
              " ('ways', 4),\n",
              " ('beat', 4),\n",
              " ('kent', 4),\n",
              " ('U130', 4),\n",
              " ('U196', 4),\n",
              " ('U219', 4),\n",
              " ('turn', 4),\n",
              " ('lame', 4),\n",
              " ('U123', 4),\n",
              " ('U154', 4),\n",
              " ('U988', 4),\n",
              " ('puff', 4),\n",
              " ('U146', 4),\n",
              " ('U989', 4),\n",
              " ('U117', 4),\n",
              " ('U819', 4),\n",
              " ('U820', 4),\n",
              " ('clap', 3),\n",
              " ('itch', 3),\n",
              " ('guyz', 3),\n",
              " ('U136', 3),\n",
              " ('gold', 3),\n",
              " ('ring', 3),\n",
              " ('isnt', 3),\n",
              " ('U141', 3),\n",
              " ('Only', 3),\n",
              " ('U148', 3),\n",
              " ('Your', 3),\n",
              " ('deal', 3),\n",
              " ('wash', 3),\n",
              " ('U109', 3),\n",
              " ('piff', 3),\n",
              " ('jump', 3),\n",
              " ('band', 3),\n",
              " ('orgy', 3),\n",
              " ('slap', 3),\n",
              " ('soft', 3),\n",
              " ('bend', 3),\n",
              " ('toss', 3),\n",
              " ('amen', 3),\n",
              " ('rain', 3),\n",
              " ('deop', 3),\n",
              " ('roof', 3),\n",
              " ('((((', 3),\n",
              " ('CHAT', 3),\n",
              " ('ahem', 3),\n",
              " ('hola', 3),\n",
              " ('butt', 3),\n",
              " ('imma', 3),\n",
              " ('town', 3),\n",
              " ('hawt', 3),\n",
              " ('2006', 3),\n",
              " ('Elev', 3),\n",
              " ('Wind', 3),\n",
              " ('AKDT', 3),\n",
              " ('lead', 3),\n",
              " ('DING', 3),\n",
              " ('note', 3),\n",
              " ('gawd', 3),\n",
              " ('half', 3),\n",
              " ('mary', 3),\n",
              " ('ello', 3),\n",
              " ('hick', 3),\n",
              " ('wine', 3),\n",
              " ('hiii', 3),\n",
              " ('bare', 3),\n",
              " ('vote', 3),\n",
              " ('Same', 3),\n",
              " ('wack', 3),\n",
              " ('snow', 3),\n",
              " ('hurt', 3),\n",
              " ('move', 3),\n",
              " ('road', 3),\n",
              " ('walk', 3),\n",
              " ('yawn', 3),\n",
              " ('hail', 3),\n",
              " ('nana', 3),\n",
              " ('U106', 3),\n",
              " ('hump', 3),\n",
              " ('elle', 3),\n",
              " ('yada', 3),\n",
              " ('tune', 3),\n",
              " ('hank', 3),\n",
              " ('slow', 3),\n",
              " ('rubs', 3),\n",
              " ('skin', 3),\n",
              " ('died', 3),\n",
              " ('U145', 3),\n",
              " ('swim', 3),\n",
              " ('U163', 3),\n",
              " ('army', 3),\n",
              " ('THAT', 3),\n",
              " ('wazz', 3),\n",
              " ('toes', 3),\n",
              " ('U153', 3),\n",
              " ('golf', 2),\n",
              " ('drew', 2),\n",
              " ('cast', 2),\n",
              " ('Days', 2),\n",
              " ('opps', 2),\n",
              " ('U138', 2),\n",
              " ('plan', 2),\n",
              " ('Just', 2),\n",
              " ('deaf', 2),\n",
              " ('deep', 2),\n",
              " ('phil', 2),\n",
              " ('hmph', 2),\n",
              " ('U155', 2),\n",
              " ('Poor', 2),\n",
              " ('Lies', 2),\n",
              " ('bite', 2),\n",
              " ('mins', 2),\n",
              " ('eats', 2),\n",
              " ('>:->', 2),\n",
              " ('cell', 2),\n",
              " ('cmon', 2),\n",
              " ('wats', 2),\n",
              " ('kind', 2),\n",
              " ('mike', 2),\n",
              " ('whoa', 2),\n",
              " ('dumb', 2),\n",
              " ('park', 2),\n",
              " ('Sure', 2),\n",
              " ('Come', 2),\n",
              " ('O.k.', 2),\n",
              " ('mama', 2),\n",
              " ('Nice', 2),\n",
              " ('hold', 2),\n",
              " ('ohio', 2),\n",
              " ('whip', 2),\n",
              " ('twin', 2),\n",
              " ('burp', 2),\n",
              " ('blew', 2),\n",
              " ('temp', 2),\n",
              " ('corn', 2),\n",
              " ('pool', 2),\n",
              " ('cash', 2),\n",
              " ('ears', 2),\n",
              " ('From', 2),\n",
              " ('porn', 2),\n",
              " ('heal', 2),\n",
              " ('Dang', 2),\n",
              " ('ciao', 2),\n",
              " ('DOES', 2),\n",
              " ('typo', 2),\n",
              " ('Stop', 2),\n",
              " ('eric', 2),\n",
              " ('Drew', 2),\n",
              " ('sore', 2),\n",
              " ('Live', 2),\n",
              " ('High', 2),\n",
              " ('hits', 2),\n",
              " ('KoOL', 2),\n",
              " ('past', 2),\n",
              " ('Love', 2),\n",
              " ('meat', 2),\n",
              " ('!!!.', 2),\n",
              " ('argh', 2),\n",
              " ('limp', 2),\n",
              " ('rent', 2),\n",
              " ('cars', 2),\n",
              " ('Tell', 2),\n",
              " ('shop', 2),\n",
              " ('U172', 2),\n",
              " ('five', 2),\n",
              " ('sell', 2),\n",
              " ('<<<<', 2),\n",
              " ('city', 2),\n",
              " ('yard', 2),\n",
              " ('grrl', 2),\n",
              " ('chip', 2),\n",
              " ('bear', 2),\n",
              " ('foot', 2),\n",
              " ('uses', 2),\n",
              " ('DONT', 2),\n",
              " ('sort', 2),\n",
              " ('lies', 2),\n",
              " ('whud', 2),\n",
              " ('hott', 2),\n",
              " ('Down', 2),\n",
              " ('Lets', 2),\n",
              " ('club', 2),\n",
              " ('adds', 2),\n",
              " ('Here', 2),\n",
              " ('born', 2),\n",
              " ('wOOt', 2),\n",
              " ('area', 2),\n",
              " ('?!?!', 2),\n",
              " ('Ohio', 2),\n",
              " ('U112', 2),\n",
              " ('humm', 2),\n",
              " ('newp', 2),\n",
              " ('gays', 2),\n",
              " ('zone', 2),\n",
              " ('hint', 2),\n",
              " ('spin', 2),\n",
              " ('ewww', 2),\n",
              " ('pies', 2),\n",
              " ('doll', 2),\n",
              " ('drop', 2),\n",
              " ('gimp', 2),\n",
              " ('spot', 2),\n",
              " ('ages', 2),\n",
              " ('clue', 2),\n",
              " ('mass', 2),\n",
              " ('Ummm', 2),\n",
              " ('Gosh', 2),\n",
              " ('flow', 2),\n",
              " ('kewl', 2),\n",
              " ('hall', 2),\n",
              " ('haze', 2),\n",
              " ('1996', 2),\n",
              " ('John', 2),\n",
              " ('john', 2),\n",
              " ('sooo', 2),\n",
              " ('cost', 2),\n",
              " ('trip', 2),\n",
              " ('babi', 2),\n",
              " ('rich', 2),\n",
              " ('U100', 2),\n",
              " ('n9ne', 2),\n",
              " ('Ahhh', 2),\n",
              " ('??!!', 2),\n",
              " ('U111', 2),\n",
              " ('moon', 2),\n",
              " ('STOP', 2),\n",
              " ('any1', 2),\n",
              " ('yeas', 2),\n",
              " ('wooo', 2),\n",
              " ('<333', 2),\n",
              " ('tick', 2),\n",
              " ('tock', 2),\n",
              " ('WITH', 2),\n",
              " ('FROM', 2),\n",
              " ('side', 2),\n",
              " ('Heyy', 2),\n",
              " ('howz', 2),\n",
              " (\"ex's\", 2),\n",
              " ('Cool', 2),\n",
              " ('U170', 2),\n",
              " ('U175', 2),\n",
              " ('root', 2),\n",
              " ('tyvm', 2),\n",
              " ('luvs', 2),\n",
              " ('fits', 2),\n",
              " ('rofl', 2),\n",
              " ('sand', 2),\n",
              " ('ltns', 2),\n",
              " ('flaw', 2),\n",
              " ('aunt', 2),\n",
              " ('lawl', 2),\n",
              " ('Okay', 2),\n",
              " ('HAVE', 2),\n",
              " ('NONE', 2),\n",
              " ('YOUR', 2),\n",
              " ('Lmao', 2),\n",
              " ('Tisk', 2),\n",
              " ('U190', 2),\n",
              " ('tisk', 2),\n",
              " ('draw', 1),\n",
              " ('docs', 1),\n",
              " ('Slip', 1),\n",
              " ('Fade', 1),\n",
              " ('bowl', 1),\n",
              " ('bong', 1),\n",
              " ('ogan', 1),\n",
              " ('cams', 1),\n",
              " ('gooo', 1),\n",
              " ('yeee', 1),\n",
              " ('ahah', 1),\n",
              " ('jeep', 1),\n",
              " ('Deep', 1),\n",
              " ('Show', 1),\n",
              " ('Turn', 1),\n",
              " ('Hand', 1),\n",
              " ('VBox', 1),\n",
              " ('ELSE', 1),\n",
              " ('serg', 1),\n",
              " ('bein', 1),\n",
              " ('whys', 1),\n",
              " ('tape', 1),\n",
              " ('sexs', 1),\n",
              " ('form', 1),\n",
              " ('HUGE', 1),\n",
              " ('nads', 1),\n",
              " ('owww', 1),\n",
              " ('gags', 1),\n",
              " ('Meep', 1),\n",
              " ('LAst', 1),\n",
              " (\"pm's\", 1),\n",
              " ('1.99', 1),\n",
              " ('lool', 1),\n",
              " ('kina', 1),\n",
              " ('sext', 1),\n",
              " ('lazy', 1),\n",
              " ('calm', 1),\n",
              " ('arms', 1),\n",
              " ('smax', 1),\n",
              " ('VVil', 1),\n",
              " ('este', 1),\n",
              " ('chik', 1),\n",
              " ('Boyz', 1),\n",
              " ('coat', 1),\n",
              " ('Eyes', 1),\n",
              " ('Dawn', 1),\n",
              " ('LIVE', 1),\n",
              " ('mauh', 1),\n",
              " ('ques', 1),\n",
              " ('4.20', 1),\n",
              " ('gosh', 1),\n",
              " ('ruff', 1),\n",
              " ('mame', 1),\n",
              " ('nada', 1),\n",
              " ('push', 1),\n",
              " ('prob', 1),\n",
              " ('wild', 1),\n",
              " ('whew', 1),\n",
              " ('dark', 1),\n",
              " ('waht', 1),\n",
              " ('test', 1),\n",
              " ('boot', 1),\n",
              " ('hiom', 1),\n",
              " ('HAHA', 1),\n",
              " ('dman', 1),\n",
              " ('jail', 1),\n",
              " ('cops', 1),\n",
              " ('hogs', 1),\n",
              " ('peek', 1),\n",
              " ('MORE', 1),\n",
              " ('TIME', 1),\n",
              " ('loud', 1),\n",
              " ('o.k.', 1),\n",
              " ('Sexy', 1),\n",
              " ('Ctrl', 1),\n",
              " ('hots', 1),\n",
              " ('Need', 1),\n",
              " ('frst', 1),\n",
              " ('1200', 1),\n",
              " ('crop', 1),\n",
              " ('bomb', 1),\n",
              " ('Pour', 1),\n",
              " ('pour', 1),\n",
              " ('Swim', 1),\n",
              " ('Hard', 1),\n",
              " ('eeek', 1),\n",
              " ('tjhe', 1),\n",
              " ('10th', 1),\n",
              " ('heee', 1),\n",
              " ('peel', 1),\n",
              " ('fock', 1),\n",
              " ('Kold', 1),\n",
              " ('exit', 1),\n",
              " ('kold', 1),\n",
              " ('3:45', 1),\n",
              " ('MRIs', 1),\n",
              " ('buff', 1),\n",
              " ('plus', 1),\n",
              " ('tory', 1),\n",
              " ('knee', 1),\n",
              " ('OOPS', 1),\n",
              " ('oooh', 1),\n",
              " ('lala', 1),\n",
              " ('fake', 1),\n",
              " ('ssid', 1),\n",
              " ('poot', 1),\n",
              " ('poop', 1),\n",
              " ('bird', 1),\n",
              " ('plow', 1),\n",
              " ('thnx', 1),\n",
              " ('card', 1),\n",
              " ('Hugs', 1),\n",
              " ('Lord', 1),\n",
              " ('uyes', 1),\n",
              " ('benz', 1),\n",
              " ('<~~~', 1),\n",
              " ('disc', 1),\n",
              " ('LONG', 1),\n",
              " ('Been', 1),\n",
              " ('Will', 1),\n",
              " ('bloe', 1),\n",
              " ('blow', 1),\n",
              " ('hooo', 1),\n",
              " ('thje', 1),\n",
              " ('Jess', 1),\n",
              " ('term', 1),\n",
              " ('Tina', 1),\n",
              " ('ooer', 1),\n",
              " ('HALO', 1),\n",
              " ('Awww', 1),\n",
              " ('anal', 1),\n",
              " ('Drop', 1),\n",
              " ('dojn', 1),\n",
              " ('wubs', 1),\n",
              " ('mkay', 1),\n",
              " ('spat', 1),\n",
              " ('gees', 1),\n",
              " ('hawT', 1),\n",
              " ('yes.', 1),\n",
              " ('puts', 1),\n",
              " ('fish', 1),\n",
              " ('size', 1),\n",
              " ('39.3', 1),\n",
              " ('1980', 1),\n",
              " ('64.8', 1),\n",
              " ('syck', 1),\n",
              " ('tere', 1),\n",
              " ('U542', 1),\n",
              " ('sent', 1),\n",
              " ('45.5', 1),\n",
              " ('98.5', 1),\n",
              " ('1299', 1),\n",
              " ('1900', 1),\n",
              " ('1930', 1),\n",
              " ('Werd', 1),\n",
              " ('Rofl', 1),\n",
              " ('mode', 1),\n",
              " ('nawt', 1),\n",
              " ('sign', 1),\n",
              " ('woof', 1),\n",
              " ('sum1', 1),\n",
              " ('ghet', 1),\n",
              " ('brad', 1),\n",
              " ('offa', 1),\n",
              " ('Dood', 1),\n",
              " ('out.', 1),\n",
              " ('LOUD', 1),\n",
              " ('sink', 1),\n",
              " ('FINE', 1),\n",
              " ('cums', 1),\n",
              " ('loss', 1),\n",
              " ('Life', 1),\n",
              " ('Damn', 1),\n",
              " ('wrap', 1),\n",
              " ('hide', 1),\n",
              " (\"PM's\", 1),\n",
              " ('Talk', 1),\n",
              " ('okey', 1),\n",
              " ('worl', 1),\n",
              " ('Hold', 1),\n",
              " ('cepn', 1),\n",
              " ('lots', 1),\n",
              " ('Mary', 1),\n",
              " ('nawp', 1),\n",
              " ('addy', 1),\n",
              " ('lake', 1),\n",
              " ('slip', 1),\n",
              " ('mite', 1),\n",
              " ('wood', 1),\n",
              " ('orta', 1),\n",
              " ('wins', 1),\n",
              " ('ebay', 1),\n",
              " ('coem', 1),\n",
              " ('giva', 1),\n",
              " ('1.98', 1),\n",
              " ('ally', 1),\n",
              " ('Judy', 1),\n",
              " ('cyas', 1),\n",
              " ('shup', 1),\n",
              " ('tooo', 1),\n",
              " (\"pm'n\", 1),\n",
              " ('choc', 1),\n",
              " ('wher', 1),\n",
              " ('whoo', 1),\n",
              " ('dint', 1),\n",
              " ('tend', 1),\n",
              " ('menu', 1),\n",
              " ('lust', 1),\n",
              " ('nods', 1),\n",
              " ('NAME', 1),\n",
              " ('kept', 1),\n",
              " ('scuk', 1),\n",
              " ('raed', 1),\n",
              " ('Then', 1),\n",
              " ('bugs', 1),\n",
              " ('nerd', 1),\n",
              " ('Hill', 1),\n",
              " ('Evil', 1),\n",
              " ('saME', 1),\n",
              " ('2Pac', 1),\n",
              " ('Time', 1),\n",
              " ('pimp', 1),\n",
              " ('haaa', 1),\n",
              " ('98.6', 1),\n",
              " (\"it's\", 1),\n",
              " ('Mono', 1),\n",
              " ('mono', 1),\n",
              " ('Bone', 1),\n",
              " ('Hero', 1),\n",
              " ('Came', 1),\n",
              " ('.op.', 1),\n",
              " ('Hott', 1),\n",
              " ('Joey', 1),\n",
              " ('Jane', 1),\n",
              " ('span', 1),\n",
              " ('wore', 1),\n",
              " ('QUIT', 1),\n",
              " ('pasa', 1),\n",
              " ('barn', 1),\n",
              " ('Kick', 1),\n",
              " ('feat', 1),\n",
              " ('Back', 1),\n",
              " ('dork', 1),\n",
              " ('laid', 1),\n",
              " ('Home', 1),\n",
              " ('herd', 1),\n",
              " ('Born', 1),\n",
              " ('Away', 1),\n",
              " ('Tide', 1),\n",
              " ('jush', 1),\n",
              " ('Cute', 1),\n",
              " ('GrlZ', 1),\n",
              " ('lung', 1),\n",
              " ('SOME', 1),\n",
              " ('Lion', 1),\n",
              " ('brat', 1),\n",
              " (':o *', 1),\n",
              " ('MUAH', 1),\n",
              " ('fawk', 1),\n",
              " ('dust', 1),\n",
              " ('Help', 1),\n",
              " ('seth', 1),\n",
              " ('Heya', 1),\n",
              " ('bone', 1),\n",
              " ('abou', 1),\n",
              " ('tthe', 1),\n",
              " ('Even', 1),\n",
              " ('herE', 1),\n",
              " ('Hail', 1),\n",
              " ('halo', 1),\n",
              " ('pork', 1),\n",
              " ('1cos', 1),\n",
              " (\"yw's\", 1),\n",
              " ('mark', 1),\n",
              " ('dotn', 1),\n",
              " ('PMSL', 1),\n",
              " ('pmsl', 1),\n",
              " ('gift', 1),\n",
              " ('outs', 1),\n",
              " ('Paul', 1),\n",
              " ('outa', 1),\n",
              " ('York', 1),\n",
              " ('Care', 1),\n",
              " ('Chat', 1),\n",
              " ('fear', 1),\n",
              " ('dies', 1),\n",
              " ('givs', 1),\n",
              " ('bust', 1),\n",
              " ('xmas', 1),\n",
              " ('enuf', 1),\n",
              " ('LoVe', 1),\n",
              " ('eeww', 1),\n",
              " ('dick', 1),\n",
              " ('fair', 1),\n",
              " ('lyin', 1),\n",
              " ('lois', 1),\n",
              " ('cuss', 1),\n",
              " ('LATE', 1),\n",
              " ('THEY', 1),\n",
              " ('GOOD', 1),\n",
              " ('rape', 1),\n",
              " ('geez', 1),\n",
              " ('tart', 1),\n",
              " ('hgey', 1),\n",
              " ('caan', 1),\n",
              " ('lol.', 1),\n",
              " ('Elle', 1),\n",
              " ('nude', 1),\n",
              " ('allo', 1),\n",
              " ('yesh', 1),\n",
              " ('wind', 1),\n",
              " ('Reub', 1),\n",
              " ('!???', 1),\n",
              " ('heat', 1),\n",
              " ('kmph', 1),\n",
              " ('pope', 1),\n",
              " ('yess', 1),\n",
              " ('!...', 1),\n",
              " ('duet', 1),\n",
              " ('wuts', 1),\n",
              " ('west', 1),\n",
              " ('quiz', 1),\n",
              " ('scar', 1),\n",
              " ('Girl', 1),\n",
              " ('pair', 1),\n",
              " ('Rang', 1),\n",
              " ('rang', 1),\n",
              " ('bell', 1),\n",
              " ('dawg', 1),\n",
              " ('febe', 1),\n",
              " ('Prof', 1),\n",
              " ('Kewl', 1),\n",
              " ('jude', 1),\n",
              " ('Yoko', 1),\n",
              " ('seee', 1),\n",
              " ('whou', 1),\n",
              " ('idnt', 1),\n",
              " ('perk', 1),\n",
              " ('http', 1),\n",
              " ('2DAY', 1),\n",
              " ('yell', 1),\n",
              " ('mang', 1),\n",
              " ('SSRI', 1),\n",
              " ('cure', 1),\n",
              " ('wean', 1),\n",
              " ('post', 1),\n",
              " ('anti', 1),\n",
              " ('noth', 1),\n",
              " ('tall', 1),\n",
              " ('pray', 1),\n",
              " ('weed', 1),\n",
              " ('icky', 1),\n",
              " ('Rick', 1),\n",
              " ('spit', 1),\n",
              " ('lube', 1),\n",
              " ('mami', 1),\n",
              " ('east', 1),\n",
              " ('18ST', 1),\n",
              " ('seat', 1),\n",
              " ('cock', 1),\n",
              " ('SExy', 1),\n",
              " ('otay', 1),\n",
              " ('firs', 1),\n",
              " ('site', 1),\n",
              " ('U113', 1),\n",
              " ('dump', 1),\n",
              " ('toop', 1),\n",
              " ('four', 1),\n",
              " ('U118', 1),\n",
              " ('sets', 1),\n",
              " ('asss', 1),\n",
              " ('paid', 1),\n",
              " ('Iowa', 1),\n",
              " ('Teck', 1),\n",
              " ('\"...', 1),\n",
              " ('jeff', 1),\n",
              " ('crib', 1),\n",
              " ('drug', 1),\n",
              " ('cook', 1),\n",
              " ('9:10', 1),\n",
              " ('ladz', 1),\n",
              " ('aime', 1),\n",
              " ('hong', 1),\n",
              " ('kong', 1),\n",
              " ('Oops', 1),\n",
              " ('tits', 1),\n",
              " ('gret', 1),\n",
              " ('guns', 1),\n",
              " ('inch', 1),\n",
              " ('sean', 1),\n",
              " ('howl', 1),\n",
              " ('Take', 1),\n",
              " ('z-ro', 1),\n",
              " ('U137', 1),\n",
              " ('Haha', 1),\n",
              " ('1985', 1),\n",
              " ('slam', 1),\n",
              " ('pine', 1),\n",
              " ('puke', 1),\n",
              " ('waaa', 1),\n",
              " ('urls', 1),\n",
              " ('star', 1),\n",
              " ('Save', 1),\n",
              " ('teck', 1),\n",
              " ('Room', 1),\n",
              " ('sori', 1),\n",
              " ('Long', 1),\n",
              " ('poem', 1),\n",
              " ...]"
            ]
          },
          "metadata": {},
          "execution_count": 126
        }
      ]
    },
    {
      "cell_type": "markdown",
      "source": [
        "23. Review the discussion of looping with conditions in 4. Use a combination of for and if statements to loop over the words of the movie script for Monty Python and the Holy Grail (text6) and print all the uppercase words, one per line."
      ],
      "metadata": {
        "id": "ca6eLz-Qif3V"
      }
    },
    {
      "cell_type": "code",
      "source": [
        "[word for word in text6 if word.isupper()]"
      ],
      "metadata": {
        "colab": {
          "base_uri": "https://localhost:8080/"
        },
        "id": "pulQ254RiiE3",
        "outputId": "523394d5-68d4-4153-a5f0-d14f3f48bf29"
      },
      "execution_count": null,
      "outputs": [
        {
          "output_type": "execute_result",
          "data": {
            "text/plain": [
              "['SCENE',\n",
              " 'KING',\n",
              " 'ARTHUR',\n",
              " 'SOLDIER',\n",
              " 'ARTHUR',\n",
              " 'I',\n",
              " 'SOLDIER',\n",
              " 'ARTHUR',\n",
              " 'I',\n",
              " 'I',\n",
              " 'SOLDIER',\n",
              " 'ARTHUR',\n",
              " 'SOLDIER',\n",
              " 'ARTHUR',\n",
              " 'SOLDIER',\n",
              " 'ARTHUR',\n",
              " 'SOLDIER',\n",
              " 'ARTHUR',\n",
              " 'SOLDIER',\n",
              " 'ARTHUR',\n",
              " 'SOLDIER',\n",
              " 'ARTHUR',\n",
              " 'SOLDIER',\n",
              " 'ARTHUR',\n",
              " 'SOLDIER',\n",
              " 'A',\n",
              " 'ARTHUR',\n",
              " 'SOLDIER',\n",
              " 'A',\n",
              " 'ARTHUR',\n",
              " 'SOLDIER',\n",
              " 'ARTHUR',\n",
              " 'SOLDIER',\n",
              " 'I',\n",
              " 'ARTHUR',\n",
              " 'I',\n",
              " 'SOLDIER',\n",
              " 'SOLDIER',\n",
              " 'SOLDIER',\n",
              " 'I',\n",
              " 'ARTHUR',\n",
              " 'SOLDIER',\n",
              " 'SOLDIER',\n",
              " 'SOLDIER',\n",
              " 'SOLDIER',\n",
              " 'SOLDIER',\n",
              " 'SOLDIER',\n",
              " 'SOLDIER',\n",
              " 'SOLDIER',\n",
              " 'SCENE',\n",
              " 'CART',\n",
              " 'MASTER',\n",
              " 'CUSTOMER',\n",
              " 'CART',\n",
              " 'MASTER',\n",
              " 'DEAD',\n",
              " 'PERSON',\n",
              " 'I',\n",
              " 'CART',\n",
              " 'MASTER',\n",
              " 'CUSTOMER',\n",
              " 'DEAD',\n",
              " 'PERSON',\n",
              " 'I',\n",
              " 'CART',\n",
              " 'MASTER',\n",
              " 'CUSTOMER',\n",
              " 'DEAD',\n",
              " 'PERSON',\n",
              " 'I',\n",
              " 'CART',\n",
              " 'MASTER',\n",
              " 'CUSTOMER',\n",
              " 'DEAD',\n",
              " 'PERSON',\n",
              " 'I',\n",
              " 'CUSTOMER',\n",
              " 'CART',\n",
              " 'MASTER',\n",
              " 'I',\n",
              " 'DEAD',\n",
              " 'PERSON',\n",
              " 'I',\n",
              " 'CUSTOMER',\n",
              " 'CART',\n",
              " 'MASTER',\n",
              " 'I',\n",
              " 'DEAD',\n",
              " 'PERSON',\n",
              " 'I',\n",
              " 'CUSTOMER',\n",
              " 'CART',\n",
              " 'MASTER',\n",
              " 'I',\n",
              " 'CUSTOMER',\n",
              " 'CART',\n",
              " 'MASTER',\n",
              " 'I',\n",
              " 'CUSTOMER',\n",
              " 'CART',\n",
              " 'MASTER',\n",
              " 'DEAD',\n",
              " 'PERSON',\n",
              " 'I',\n",
              " 'I',\n",
              " 'CUSTOMER',\n",
              " 'DEAD',\n",
              " 'PERSON',\n",
              " 'I',\n",
              " 'I',\n",
              " 'CUSTOMER',\n",
              " 'CART',\n",
              " 'MASTER',\n",
              " 'CUSTOMER',\n",
              " 'CART',\n",
              " 'MASTER',\n",
              " 'I',\n",
              " 'CUSTOMER',\n",
              " 'CART',\n",
              " 'MASTER',\n",
              " 'SCENE',\n",
              " 'ARTHUR',\n",
              " 'DENNIS',\n",
              " 'ARTHUR',\n",
              " 'DENNIS',\n",
              " 'I',\n",
              " 'ARTHUR',\n",
              " 'I',\n",
              " 'DENNIS',\n",
              " 'I',\n",
              " 'I',\n",
              " 'ARTHUR',\n",
              " 'I',\n",
              " 'DENNIS',\n",
              " 'ARTHUR',\n",
              " 'I',\n",
              " 'DENNIS',\n",
              " 'ARTHUR',\n",
              " 'I',\n",
              " 'DENNIS',\n",
              " 'I',\n",
              " 'ARTHUR',\n",
              " 'I',\n",
              " 'DENNIS',\n",
              " 'WOMAN',\n",
              " 'ARTHUR',\n",
              " 'I',\n",
              " 'WOMAN',\n",
              " 'ARTHUR',\n",
              " 'WOMAN',\n",
              " 'ARTHUR',\n",
              " 'I',\n",
              " 'WOMAN',\n",
              " 'I',\n",
              " 'I',\n",
              " 'DENNIS',\n",
              " 'A',\n",
              " 'WOMAN',\n",
              " 'DENNIS',\n",
              " 'ARTHUR',\n",
              " 'I',\n",
              " 'WOMAN',\n",
              " 'ARTHUR',\n",
              " 'WOMAN',\n",
              " 'ARTHUR',\n",
              " 'DENNIS',\n",
              " 'I',\n",
              " 'ARTHUR',\n",
              " 'DENNIS',\n",
              " 'ARTHUR',\n",
              " 'I',\n",
              " 'DENNIS',\n",
              " 'ARTHUR',\n",
              " 'DENNIS',\n",
              " 'ARTHUR',\n",
              " 'I',\n",
              " 'WOMAN',\n",
              " 'ARTHUR',\n",
              " 'I',\n",
              " 'WOMAN',\n",
              " 'I',\n",
              " 'ARTHUR',\n",
              " 'WOMAN',\n",
              " 'ARTHUR',\n",
              " 'I',\n",
              " 'I',\n",
              " 'DENNIS',\n",
              " 'ARTHUR',\n",
              " 'DENNIS',\n",
              " 'ARTHUR',\n",
              " 'DENNIS',\n",
              " 'I',\n",
              " 'I',\n",
              " 'I',\n",
              " 'ARTHUR',\n",
              " 'DENNIS',\n",
              " 'ARTHUR',\n",
              " 'DENNIS',\n",
              " 'I',\n",
              " 'ARTHUR',\n",
              " 'DENNIS',\n",
              " 'I',\n",
              " 'SCENE',\n",
              " 'BLACK',\n",
              " 'KNIGHT',\n",
              " 'BLACK',\n",
              " 'KNIGHT',\n",
              " 'GREEN',\n",
              " 'KNIGHT',\n",
              " 'BLACK',\n",
              " 'KNIGHT',\n",
              " 'GREEN',\n",
              " 'KNIGHT',\n",
              " 'BLACK',\n",
              " 'KNIGHT',\n",
              " 'BLACK',\n",
              " 'KNIGHT',\n",
              " 'GREEN',\n",
              " 'KNIGHT',\n",
              " 'GREEN',\n",
              " 'KNIGHT',\n",
              " 'BLACK',\n",
              " 'KNIGHT',\n",
              " 'GREEN',\n",
              " 'KNIGHT',\n",
              " 'BLACK',\n",
              " 'KNIGHT',\n",
              " 'ARTHUR',\n",
              " 'I',\n",
              " 'I',\n",
              " 'BLACK',\n",
              " 'KNIGHT',\n",
              " 'ARTHUR',\n",
              " 'BLACK',\n",
              " 'KNIGHT',\n",
              " 'ARTHUR',\n",
              " 'I',\n",
              " 'I',\n",
              " 'BLACK',\n",
              " 'KNIGHT',\n",
              " 'ARTHUR',\n",
              " 'I',\n",
              " 'BLACK',\n",
              " 'KNIGHT',\n",
              " 'I',\n",
              " 'ARTHUR',\n",
              " 'ARTHUR',\n",
              " 'BLACK',\n",
              " 'KNIGHT',\n",
              " 'ARTHUR',\n",
              " 'BLACK',\n",
              " 'KNIGHT',\n",
              " 'ARTHUR',\n",
              " 'BLACK',\n",
              " 'KNIGHT',\n",
              " 'ARTHUR',\n",
              " 'A',\n",
              " 'BLACK',\n",
              " 'KNIGHT',\n",
              " 'ARTHUR',\n",
              " 'BLACK',\n",
              " 'KNIGHT',\n",
              " 'I',\n",
              " 'ARTHUR',\n",
              " 'BLACK',\n",
              " 'KNIGHT',\n",
              " 'ARTHUR',\n",
              " 'BLACK',\n",
              " 'KNIGHT',\n",
              " 'ARTHUR',\n",
              " 'BLACK',\n",
              " 'KNIGHT',\n",
              " 'ARTHUR',\n",
              " 'BLACK',\n",
              " 'KNIGHT',\n",
              " 'ARTHUR',\n",
              " 'BLACK',\n",
              " 'KNIGHT',\n",
              " 'ARTHUR',\n",
              " 'BLACK',\n",
              " 'KNIGHT',\n",
              " 'I',\n",
              " 'ARTHUR',\n",
              " 'BLACK',\n",
              " 'KNIGHT',\n",
              " 'ARTHUR',\n",
              " 'BLACK',\n",
              " 'KNIGHT',\n",
              " 'ARTHUR',\n",
              " 'I',\n",
              " 'ARTHUR',\n",
              " 'BLACK',\n",
              " 'KNIGHT',\n",
              " 'BLACK',\n",
              " 'KNIGHT',\n",
              " 'I',\n",
              " 'ARTHUR',\n",
              " 'BLACK',\n",
              " 'KNIGHT',\n",
              " 'ARTHUR',\n",
              " 'BLACK',\n",
              " 'KNIGHT',\n",
              " 'I',\n",
              " 'ARTHUR',\n",
              " 'BLACK',\n",
              " 'KNIGHT',\n",
              " 'ARTHUR',\n",
              " 'BLACK',\n",
              " 'KNIGHT',\n",
              " 'BLACK',\n",
              " 'KNIGHT',\n",
              " 'ARTHUR',\n",
              " 'BLACK',\n",
              " 'KNIGHT',\n",
              " 'I',\n",
              " 'I',\n",
              " 'SCENE',\n",
              " 'MONKS',\n",
              " 'CROWD',\n",
              " 'A',\n",
              " 'A',\n",
              " 'A',\n",
              " 'A',\n",
              " 'MONKS',\n",
              " 'CROWD',\n",
              " 'A',\n",
              " 'A',\n",
              " 'A',\n",
              " 'A',\n",
              " 'A',\n",
              " 'A',\n",
              " 'A',\n",
              " 'A',\n",
              " 'A',\n",
              " 'A',\n",
              " 'A',\n",
              " 'A',\n",
              " 'A',\n",
              " 'VILLAGER',\n",
              " 'CROWD',\n",
              " 'BEDEVERE',\n",
              " 'VILLAGER',\n",
              " 'CROWD',\n",
              " 'BEDEVERE',\n",
              " 'WITCH',\n",
              " 'I',\n",
              " 'I',\n",
              " 'BEDEVERE',\n",
              " 'WITCH',\n",
              " 'CROWD',\n",
              " 'WITCH',\n",
              " 'BEDEVERE',\n",
              " 'VILLAGER',\n",
              " 'BEDEVERE',\n",
              " 'VILLAGER',\n",
              " 'VILLAGER',\n",
              " 'CROWD',\n",
              " 'BEDEVERE',\n",
              " 'VILLAGER',\n",
              " 'VILLAGER',\n",
              " 'VILLAGER',\n",
              " 'VILLAGER',\n",
              " 'VILLAGERS',\n",
              " 'VILLAGER',\n",
              " 'VILLAGER',\n",
              " 'VILLAGER',\n",
              " 'VILLAGER',\n",
              " 'A',\n",
              " 'VILLAGERS',\n",
              " 'A',\n",
              " 'VILLAGER',\n",
              " 'A',\n",
              " 'VILLAGER',\n",
              " 'RANDOM',\n",
              " 'BEDEVERE',\n",
              " 'VILLAGER',\n",
              " 'BEDEVERE',\n",
              " 'A',\n",
              " 'VILLAGER',\n",
              " 'I',\n",
              " 'VILLAGER',\n",
              " 'VILLAGER',\n",
              " 'CROWD',\n",
              " 'BEDEVERE',\n",
              " 'VILLAGER',\n",
              " 'VILLAGER',\n",
              " 'VILLAGER',\n",
              " 'CROWD',\n",
              " 'BEDEVERE',\n",
              " 'VILLAGER',\n",
              " 'VILLAGER',\n",
              " 'CROWD',\n",
              " 'BEDEVERE',\n",
              " 'VILLAGER',\n",
              " 'VILLAGER',\n",
              " 'VILLAGER',\n",
              " 'BEDEVERE',\n",
              " 'VILLAGER',\n",
              " 'B',\n",
              " 'BEDEVERE',\n",
              " 'CROWD',\n",
              " 'BEDEVERE',\n",
              " 'VILLAGER',\n",
              " 'BEDEVERE',\n",
              " 'VILLAGER',\n",
              " 'RANDOM',\n",
              " 'BEDEVERE',\n",
              " 'VILLAGER',\n",
              " 'VILLAGER',\n",
              " 'VILLAGER',\n",
              " 'CROWD',\n",
              " 'BEDEVERE',\n",
              " 'VILLAGER',\n",
              " 'VILLAGER',\n",
              " 'VILLAGER',\n",
              " 'VILLAGER',\n",
              " 'VILLAGER',\n",
              " 'VILLAGER',\n",
              " 'VILLAGER',\n",
              " 'VILLAGER',\n",
              " 'VILLAGER',\n",
              " 'ARTHUR',\n",
              " 'A',\n",
              " 'CROWD',\n",
              " 'BEDEVERE',\n",
              " 'VILLAGER',\n",
              " 'BEDEVERE',\n",
              " 'VILLAGER',\n",
              " 'A',\n",
              " 'VILLAGER',\n",
              " 'A',\n",
              " 'CROWD',\n",
              " 'A',\n",
              " 'A',\n",
              " 'VILLAGER',\n",
              " 'BEDEVERE',\n",
              " 'CROWD',\n",
              " 'BEDEVERE',\n",
              " 'CROWD',\n",
              " 'A',\n",
              " 'A',\n",
              " 'A',\n",
              " 'WITCH',\n",
              " 'VILLAGER',\n",
              " 'CROWD',\n",
              " 'BEDEVERE',\n",
              " 'ARTHUR',\n",
              " 'I',\n",
              " 'BEDEVERE',\n",
              " 'ARTHUR',\n",
              " 'BEDEVERE',\n",
              " 'I',\n",
              " 'ARTHUR',\n",
              " 'BEDEVERE',\n",
              " 'ARTHUR',\n",
              " 'I',\n",
              " 'NARRATOR',\n",
              " 'SCENE',\n",
              " 'SIR',\n",
              " 'BEDEVERE',\n",
              " 'ARTHUR',\n",
              " 'BEDEVERE',\n",
              " 'SIR',\n",
              " 'LAUNCELOT',\n",
              " 'ARTHUR',\n",
              " 'SIR',\n",
              " 'GALAHAD',\n",
              " 'LAUNCELOT',\n",
              " 'PATSY',\n",
              " 'ARTHUR',\n",
              " 'I',\n",
              " 'KNIGHTS',\n",
              " 'PRISONER',\n",
              " 'KNIGHTS',\n",
              " 'MAN',\n",
              " 'I',\n",
              " 'ARTHUR',\n",
              " 'KNIGHTS',\n",
              " 'SCENE',\n",
              " 'GOD',\n",
              " 'I',\n",
              " 'ARTHUR',\n",
              " 'GOD',\n",
              " 'I',\n",
              " 'I',\n",
              " 'ARTHUR',\n",
              " 'I',\n",
              " 'O',\n",
              " 'GOD',\n",
              " 'ARTHUR',\n",
              " 'GOD',\n",
              " 'ARTHUR',\n",
              " 'O',\n",
              " 'GOD',\n",
              " 'LAUNCELOT',\n",
              " 'A',\n",
              " 'A',\n",
              " 'GALAHAD',\n",
              " 'SCENE',\n",
              " 'ARTHUR',\n",
              " 'FRENCH',\n",
              " 'GUARD',\n",
              " 'ARTHUR',\n",
              " 'FRENCH',\n",
              " 'GUARD',\n",
              " 'ARTHUR',\n",
              " 'FRENCH',\n",
              " 'GUARD',\n",
              " 'I',\n",
              " 'I',\n",
              " 'ARTHUR',\n",
              " 'GALAHAD',\n",
              " 'ARTHUR',\n",
              " 'FRENCH',\n",
              " 'GUARD',\n",
              " 'I',\n",
              " 'ARTHUR',\n",
              " 'FRENCH',\n",
              " 'GUARD',\n",
              " 'ARTHUR',\n",
              " 'FRENCH',\n",
              " 'GUARD',\n",
              " 'I',\n",
              " 'I',\n",
              " 'GALAHAD',\n",
              " 'FRENCH',\n",
              " 'GUARD',\n",
              " 'ARTHUR',\n",
              " 'FRENCH',\n",
              " 'GUARD',\n",
              " 'I',\n",
              " 'GALAHAD',\n",
              " 'ARTHUR',\n",
              " 'FRENCH',\n",
              " 'GUARD',\n",
              " 'I',\n",
              " 'I',\n",
              " 'GALAHAD',\n",
              " 'FRENCH',\n",
              " 'GUARD',\n",
              " 'I',\n",
              " 'ARTHUR',\n",
              " 'I',\n",
              " 'FRENCH',\n",
              " 'GUARD',\n",
              " 'OTHER',\n",
              " 'FRENCH',\n",
              " 'GUARD',\n",
              " 'FRENCH',\n",
              " 'GUARD',\n",
              " 'ARTHUR',\n",
              " 'I',\n",
              " 'KNIGHTS',\n",
              " 'ARTHUR',\n",
              " 'KNIGHTS',\n",
              " 'FRENCH',\n",
              " 'GUARD',\n",
              " 'FRENCH',\n",
              " 'GUARD',\n",
              " 'ARTHUR',\n",
              " 'KNIGHTS',\n",
              " 'FRENCH',\n",
              " 'GUARD',\n",
              " 'FRENCH',\n",
              " 'GUARDS',\n",
              " 'LAUNCELOT',\n",
              " 'I',\n",
              " 'ARTHUR',\n",
              " 'BEDEVERE',\n",
              " 'I',\n",
              " 'FRENCH',\n",
              " 'GUARDS',\n",
              " 'C',\n",
              " 'A',\n",
              " 'ARTHUR',\n",
              " 'BEDEVERE',\n",
              " 'I',\n",
              " 'ARTHUR',\n",
              " 'BEDEVERE',\n",
              " 'U',\n",
              " 'I',\n",
              " 'ARTHUR',\n",
              " 'BEDEVERE',\n",
              " 'ARTHUR',\n",
              " 'KNIGHTS',\n",
              " 'CRASH',\n",
              " 'FRENCH',\n",
              " 'GUARDS',\n",
              " 'SCENE',\n",
              " 'VOICE',\n",
              " 'DIRECTOR',\n",
              " 'HISTORIAN',\n",
              " 'KNIGHT',\n",
              " 'KNIGHT',\n",
              " 'HISTORIAN',\n",
              " 'HISTORIAN',\n",
              " 'S',\n",
              " 'WIFE',\n",
              " 'SCENE',\n",
              " 'NARRATOR',\n",
              " 'MINSTREL',\n",
              " 'O',\n",
              " 'SIR',\n",
              " 'ROBIN',\n",
              " 'DENNIS',\n",
              " 'WOMAN',\n",
              " 'ALL',\n",
              " 'HEADS',\n",
              " 'MINSTREL',\n",
              " 'ROBIN',\n",
              " 'I',\n",
              " 'ALL',\n",
              " 'HEADS',\n",
              " 'MINSTREL',\n",
              " 'ROBIN',\n",
              " 'I',\n",
              " 'ALL',\n",
              " 'HEADS',\n",
              " 'I',\n",
              " 'ROBIN',\n",
              " 'W',\n",
              " 'I',\n",
              " 'I',\n",
              " 'ALL',\n",
              " 'HEADS',\n",
              " 'ROBIN',\n",
              " 'I',\n",
              " 'LEFT',\n",
              " 'HEAD',\n",
              " 'I',\n",
              " 'MIDDLE',\n",
              " 'HEAD',\n",
              " 'I',\n",
              " 'RIGHT',\n",
              " 'HEAD',\n",
              " 'I',\n",
              " 'MIDDLE',\n",
              " 'HEAD',\n",
              " 'I',\n",
              " 'LEFT',\n",
              " 'HEAD',\n",
              " 'I',\n",
              " 'RIGHT',\n",
              " 'HEAD',\n",
              " 'LEFT',\n",
              " 'HEAD',\n",
              " 'ROBIN',\n",
              " 'I',\n",
              " 'LEFT',\n",
              " 'HEAD',\n",
              " 'I',\n",
              " 'RIGHT',\n",
              " 'HEAD',\n",
              " 'MIDDLE',\n",
              " 'HEAD',\n",
              " 'LEFT',\n",
              " 'HEAD',\n",
              " 'RIGHT',\n",
              " 'HEAD',\n",
              " 'MIDDLE',\n",
              " 'HEAD',\n",
              " 'LEFT',\n",
              " 'HEAD',\n",
              " 'MIDDLE',\n",
              " 'HEAD',\n",
              " 'LEFT',\n",
              " 'HEAD',\n",
              " 'I',\n",
              " 'MIDDLE',\n",
              " 'HEAD',\n",
              " 'RIGHT',\n",
              " 'HEAD',\n",
              " 'LEFT',\n",
              " 'HEAD',\n",
              " 'MIDDLE',\n",
              " 'HEAD',\n",
              " 'RIGHT',\n",
              " 'HEAD',\n",
              " 'LEFT',\n",
              " 'HEAD',\n",
              " 'ALL',\n",
              " 'HEADS',\n",
              " 'MIDDLE',\n",
              " 'HEAD',\n",
              " 'RIGHT',\n",
              " 'HEAD',\n",
              " 'MINSTREL',\n",
              " 'ROBIN',\n",
              " 'MINSTREL',\n",
              " 'ROBIN',\n",
              " 'I',\n",
              " 'MINSTREL',\n",
              " 'ROBIN',\n",
              " 'MINSTREL',\n",
              " 'ROBIN',\n",
              " 'I',\n",
              " 'MINSTREL',\n",
              " 'ROBIN',\n",
              " 'I',\n",
              " 'MINSTREL',\n",
              " 'ROBIN',\n",
              " 'MINSTREL',\n",
              " 'ROBIN',\n",
              " 'I',\n",
              " 'CARTOON',\n",
              " 'MONKS',\n",
              " 'CARTOON',\n",
              " 'CHARACTER',\n",
              " 'CARTOON',\n",
              " 'MONKS',\n",
              " 'CARTOON',\n",
              " 'CHARACTERS',\n",
              " 'CARTOON',\n",
              " 'MONKS',\n",
              " 'CARTOON',\n",
              " 'CHARACTER',\n",
              " 'VOICE',\n",
              " 'CARTOON',\n",
              " 'CHARACTER',\n",
              " 'SCENE',\n",
              " 'NARRATOR',\n",
              " 'GALAHAD',\n",
              " 'GIRLS',\n",
              " 'ZOOT',\n",
              " 'GALAHAD',\n",
              " 'ZOOT',\n",
              " 'GALAHAD',\n",
              " 'ZOOT',\n",
              " 'GALAHAD',\n",
              " 'ZOOT',\n",
              " 'MIDGET',\n",
              " 'CRAPPER',\n",
              " 'O',\n",
              " 'ZOOT',\n",
              " 'MIDGET',\n",
              " 'CRAPPER',\n",
              " 'ZOOT',\n",
              " 'GALAHAD',\n",
              " 'I',\n",
              " 'I',\n",
              " 'ZOOT',\n",
              " 'GALAHAD',\n",
              " 'ZOOT',\n",
              " 'GALAHAD',\n",
              " 'ZOOT',\n",
              " 'GALAHAD',\n",
              " 'I',\n",
              " 'ZOOT',\n",
              " 'GALAHAD',\n",
              " 'I',\n",
              " 'I',\n",
              " 'ZOOT',\n",
              " 'I',\n",
              " 'GALAHAD',\n",
              " 'ZOOT',\n",
              " 'PIGLET',\n",
              " 'GALAHAD',\n",
              " 'ZOOT',\n",
              " 'GALAHAD',\n",
              " 'B',\n",
              " 'ZOOT',\n",
              " 'WINSTON',\n",
              " 'GALAHAD',\n",
              " 'PIGLET',\n",
              " 'GALAHAD',\n",
              " 'PIGLET',\n",
              " 'GALAHAD',\n",
              " 'I',\n",
              " 'PIGLET',\n",
              " 'GALAHAD',\n",
              " 'I',\n",
              " 'PIGLET',\n",
              " 'GALAHAD',\n",
              " 'I',\n",
              " 'I',\n",
              " 'I',\n",
              " 'GIRLS',\n",
              " 'GALAHAD',\n",
              " 'GIRLS',\n",
              " 'GALAHAD',\n",
              " 'DINGO',\n",
              " 'I',\n",
              " 'GALAHAD',\n",
              " 'I',\n",
              " 'DINGO',\n",
              " 'GALAHAD',\n",
              " 'I',\n",
              " 'I',\n",
              " 'DINGO',\n",
              " 'GALAHAD',\n",
              " 'DINGO',\n",
              " 'I',\n",
              " 'GALAHAD',\n",
              " 'DINGO',\n",
              " 'I',\n",
              " 'LEFT',\n",
              " 'HEAD',\n",
              " 'DENNIS',\n",
              " 'OLD',\n",
              " 'MAN',\n",
              " 'TIM',\n",
              " 'THE',\n",
              " 'ENCHANTER',\n",
              " 'ARMY',\n",
              " 'OF',\n",
              " 'KNIGHTS',\n",
              " 'DINGO',\n",
              " 'I',\n",
              " 'GOD',\n",
              " 'DINGO',\n",
              " 'GIRLS',\n",
              " 'A',\n",
              " 'A',\n",
              " 'DINGO',\n",
              " 'AMAZING',\n",
              " 'STUNNER',\n",
              " 'LOVELY',\n",
              " 'DINGO',\n",
              " 'GIRLS',\n",
              " 'A',\n",
              " 'A',\n",
              " 'DINGO',\n",
              " 'GIRLS',\n",
              " 'GALAHAD',\n",
              " 'I',\n",
              " 'LAUNCELOT',\n",
              " 'GALAHAD',\n",
              " 'LAUNCELOT',\n",
              " 'GALAHAD',\n",
              " 'LAUNCELOT',\n",
              " 'GALAHAD',\n",
              " 'LAUNCELOT',\n",
              " 'DINGO',\n",
              " 'LAUNCELOT',\n",
              " 'GALAHAD',\n",
              " 'LAUNCELOT',\n",
              " 'GALAHAD',\n",
              " 'I',\n",
              " 'LAUNCELOT',\n",
              " 'GIRLS',\n",
              " 'GALAHAD',\n",
              " 'I',\n",
              " 'DINGO',\n",
              " 'GIRLS',\n",
              " 'LAUNCELOT',\n",
              " 'GALAHAD',\n",
              " 'I',\n",
              " 'I',\n",
              " 'DINGO',\n",
              " 'GIRLS',\n",
              " 'LAUNCELOT',\n",
              " 'GALAHAD',\n",
              " 'I',\n",
              " 'DINGO',\n",
              " 'GIRLS',\n",
              " 'DINGO',\n",
              " 'LAUNCELOT',\n",
              " 'GALAHAD',\n",
              " 'I',\n",
              " 'I',\n",
              " 'LAUNCELOT',\n",
              " 'GALAHAD',\n",
              " 'LAUNCELOT',\n",
              " 'GALAHAD',\n",
              " 'I',\n",
              " 'LAUNCELOT',\n",
              " 'GALAHAD',\n",
              " 'LAUNCELOT',\n",
              " 'GALAHAD',\n",
              " 'I',\n",
              " 'LAUNCELOT',\n",
              " 'I',\n",
              " 'NARRATOR',\n",
              " 'I',\n",
              " 'I',\n",
              " 'CROWD',\n",
              " 'NARRATOR',\n",
              " 'I',\n",
              " 'SCENE',\n",
              " 'OLD',\n",
              " 'MAN',\n",
              " 'ARTHUR',\n",
              " 'OLD',\n",
              " 'MAN',\n",
              " 'ARTHUR',\n",
              " 'OLD',\n",
              " 'MAN',\n",
              " 'ARTHUR',\n",
              " 'OLD',\n",
              " 'MAN',\n",
              " 'ARTHUR',\n",
              " 'OLD',\n",
              " 'MAN',\n",
              " 'ARTHUR',\n",
              " 'OLD',\n",
              " 'MAN',\n",
              " 'ARTHUR',\n",
              " 'OLD',\n",
              " 'MAN',\n",
              " 'SCENE',\n",
              " 'HEAD',\n",
              " 'KNIGHT',\n",
              " 'OF',\n",
              " 'NI',\n",
              " 'KNIGHTS',\n",
              " 'OF',\n",
              " 'NI',\n",
              " 'ARTHUR',\n",
              " 'HEAD',\n",
              " 'KNIGHT',\n",
              " 'RANDOM',\n",
              " 'ARTHUR',\n",
              " 'HEAD',\n",
              " 'KNIGHT',\n",
              " 'BEDEVERE',\n",
              " 'HEAD',\n",
              " 'KNIGHT',\n",
              " 'RANDOM',\n",
              " 'ARTHUR',\n",
              " 'HEAD',\n",
              " 'KNIGHT',\n",
              " 'ARTHUR',\n",
              " 'HEAD',\n",
              " 'KNIGHT',\n",
              " 'KNIGHTS',\n",
              " 'OF',\n",
              " 'NI',\n",
              " 'ARTHUR',\n",
              " 'HEAD',\n",
              " 'KNIGHT',\n",
              " 'ARTHUR',\n",
              " 'HEAD',\n",
              " 'KNIGHT',\n",
              " 'ARTHUR',\n",
              " 'A',\n",
              " 'KNIGHTS',\n",
              " 'OF',\n",
              " 'NI',\n",
              " 'ARTHUR',\n",
              " 'PARTY',\n",
              " 'ARTHUR',\n",
              " 'HEAD',\n",
              " 'KNIGHT',\n",
              " 'ARTHUR',\n",
              " 'O',\n",
              " 'HEAD',\n",
              " 'KNIGHT',\n",
              " 'ARTHUR',\n",
              " 'HEAD',\n",
              " 'KNIGHT',\n",
              " 'ARTHUR',\n",
              " 'HEAD',\n",
              " 'KNIGHT',\n",
              " 'CARTOON',\n",
              " 'CHARACTER',\n",
              " 'SUN',\n",
              " 'CARTOON',\n",
              " 'CHARACTER',\n",
              " 'SUN',\n",
              " 'CARTOON',\n",
              " 'CHARACTER',\n",
              " 'SUN',\n",
              " 'CARTOON',\n",
              " 'CHARACTER',\n",
              " 'SCENE',\n",
              " 'NARRATOR',\n",
              " 'FATHER',\n",
              " 'PRINCE',\n",
              " 'HERBERT',\n",
              " 'FATHER',\n",
              " 'HERBERT',\n",
              " 'FATHER',\n",
              " 'HERBERT',\n",
              " 'B',\n",
              " 'I',\n",
              " 'FATHER',\n",
              " 'I',\n",
              " 'I',\n",
              " 'I',\n",
              " 'I',\n",
              " 'I',\n",
              " 'I',\n",
              " 'HERBERT',\n",
              " 'I',\n",
              " 'I',\n",
              " 'FATHER',\n",
              " 'HERBERT',\n",
              " 'I',\n",
              " 'FATHER',\n",
              " 'I',\n",
              " 'HERBERT',\n",
              " 'B',\n",
              " 'I',\n",
              " 'FATHER',\n",
              " 'HERBERT',\n",
              " 'FATHER',\n",
              " 'HERBERT',\n",
              " 'I',\n",
              " 'FATHER',\n",
              " 'HERBERT',\n",
              " ...]"
            ]
          },
          "metadata": {},
          "execution_count": 132
        }
      ]
    },
    {
      "cell_type": "markdown",
      "source": [
        "24. Write expressions for finding all words in text6 that meet the conditions listed below. The result should be in the form of a list of words: ['word1', 'word2', ...]."
      ],
      "metadata": {
        "id": "4lZ0FuX6iigg"
      }
    },
    {
      "cell_type": "markdown",
      "source": [
        "a. Ending in ise"
      ],
      "metadata": {
        "id": "aZxE_rVwip8b"
      }
    },
    {
      "cell_type": "code",
      "source": [
        "[word for word in text6 if word[-3::] == \"ise\"]"
      ],
      "metadata": {
        "colab": {
          "base_uri": "https://localhost:8080/"
        },
        "id": "IG5WZdpPirx2",
        "outputId": "7fefc607-dc2b-4d6d-dd74-254dff60cce7"
      },
      "execution_count": null,
      "outputs": [
        {
          "output_type": "execute_result",
          "data": {
            "text/plain": [
              "['wise',\n",
              " 'wise',\n",
              " 'apologise',\n",
              " 'surprise',\n",
              " 'surprise',\n",
              " 'surprise',\n",
              " 'noise',\n",
              " 'surprise']"
            ]
          },
          "metadata": {},
          "execution_count": 136
        }
      ]
    },
    {
      "cell_type": "markdown",
      "source": [
        "b. Containing the letter z"
      ],
      "metadata": {
        "id": "uekLK15Disy1"
      }
    },
    {
      "cell_type": "code",
      "source": [
        "[word for word in text6 if ('z' in word)]"
      ],
      "metadata": {
        "colab": {
          "base_uri": "https://localhost:8080/"
        },
        "id": "TdBL0yMJivQB",
        "outputId": "6e48be80-1a78-48c6-9238-ddf00104b748"
      },
      "execution_count": null,
      "outputs": [
        {
          "output_type": "execute_result",
          "data": {
            "text/plain": [
              "['zone',\n",
              " 'amazes',\n",
              " 'Fetchez',\n",
              " 'Fetchez',\n",
              " 'zoop',\n",
              " 'zoo',\n",
              " 'zhiv',\n",
              " 'frozen',\n",
              " 'zoosh']"
            ]
          },
          "metadata": {},
          "execution_count": 138
        }
      ]
    },
    {
      "cell_type": "markdown",
      "source": [
        "c. Containing the sequence of letters pt"
      ],
      "metadata": {
        "id": "Fy8vvAP2iv8j"
      }
    },
    {
      "cell_type": "code",
      "source": [
        "[word for word in text6 if ('pt' in word)]"
      ],
      "metadata": {
        "colab": {
          "base_uri": "https://localhost:8080/"
        },
        "id": "tcp-skZxixn_",
        "outputId": "14d36ca0-dc84-4539-d480-d32c5582121c"
      },
      "execution_count": null,
      "outputs": [
        {
          "output_type": "execute_result",
          "data": {
            "text/plain": [
              "['empty',\n",
              " 'aptly',\n",
              " 'Thpppppt',\n",
              " 'Thppt',\n",
              " 'Thppt',\n",
              " 'empty',\n",
              " 'Thppppt',\n",
              " 'temptress',\n",
              " 'temptation',\n",
              " 'ptoo',\n",
              " 'Chapter',\n",
              " 'excepting',\n",
              " 'Thpppt']"
            ]
          },
          "metadata": {},
          "execution_count": 139
        }
      ]
    },
    {
      "cell_type": "markdown",
      "source": [
        "d. Having all lowercase letters except for an initial capital (i.e., titlecase)\n"
      ],
      "metadata": {
        "id": "Rel557XQi1Ca"
      }
    },
    {
      "cell_type": "code",
      "source": [
        "[word for word in text6 if (len(word) > 0 and word[0].isupper() and word[1:].islower())]"
      ],
      "metadata": {
        "colab": {
          "base_uri": "https://localhost:8080/"
        },
        "id": "nAeC9maYi-YT",
        "outputId": "1c89a08c-6f04-493d-c1b9-19f4233f8e32"
      },
      "execution_count": null,
      "outputs": [
        {
          "output_type": "execute_result",
          "data": {
            "text/plain": [
              "['Whoa',\n",
              " 'Halt',\n",
              " 'Who',\n",
              " 'It',\n",
              " 'Arthur',\n",
              " 'Uther',\n",
              " 'Pendragon',\n",
              " 'Camelot',\n",
              " 'King',\n",
              " 'Britons',\n",
              " 'Saxons',\n",
              " 'England',\n",
              " 'Pull',\n",
              " 'Patsy',\n",
              " 'We',\n",
              " 'Camelot',\n",
              " 'What',\n",
              " 'Ridden',\n",
              " 'Yes',\n",
              " 'You',\n",
              " 'What',\n",
              " 'You',\n",
              " 'So',\n",
              " 'We',\n",
              " 'Mercea',\n",
              " 'Where',\n",
              " 'We',\n",
              " 'Found',\n",
              " 'In',\n",
              " 'Mercea',\n",
              " 'The',\n",
              " 'What',\n",
              " 'Well',\n",
              " 'The',\n",
              " 'Are',\n",
              " 'Not',\n",
              " 'They',\n",
              " 'What',\n",
              " 'It',\n",
              " 'It',\n",
              " 'It',\n",
              " 'Well',\n",
              " 'Will',\n",
              " 'Arthur',\n",
              " 'Court',\n",
              " 'Camelot',\n",
              " 'Listen',\n",
              " 'In',\n",
              " 'Please',\n",
              " 'Am',\n",
              " 'It',\n",
              " 'African',\n",
              " 'Oh',\n",
              " 'African',\n",
              " 'European',\n",
              " 'That',\n",
              " 'Oh',\n",
              " 'Will',\n",
              " 'Camelot',\n",
              " 'But',\n",
              " 'African',\n",
              " 'Oh',\n",
              " 'So',\n",
              " 'Wait',\n",
              " 'Supposing',\n",
              " 'No',\n",
              " 'Well',\n",
              " 'They',\n",
              " 'What',\n",
              " 'Well',\n",
              " 'Bring',\n",
              " 'Bring',\n",
              " 'Bring',\n",
              " 'Bring',\n",
              " 'Bring',\n",
              " 'Bring',\n",
              " 'Bring',\n",
              " 'Bring',\n",
              " 'Ninepence',\n",
              " 'Bring',\n",
              " 'Bring',\n",
              " 'Bring',\n",
              " 'Bring',\n",
              " 'Here',\n",
              " 'Ninepence',\n",
              " 'What',\n",
              " 'Nothing',\n",
              " 'Here',\n",
              " 'Ere',\n",
              " 'He',\n",
              " 'Yes',\n",
              " 'He',\n",
              " 'Well',\n",
              " 'He',\n",
              " 'No',\n",
              " 'You',\n",
              " 'Oh',\n",
              " 'It',\n",
              " 'Oh',\n",
              " 'Well',\n",
              " 'Well',\n",
              " 'He',\n",
              " 'No',\n",
              " 'Robinson',\n",
              " 'They',\n",
              " 'Well',\n",
              " 'Thursday',\n",
              " 'You',\n",
              " 'Look',\n",
              " 'Ah',\n",
              " 'Not',\n",
              " 'See',\n",
              " 'Thursday',\n",
              " 'Right',\n",
              " 'All',\n",
              " 'Who',\n",
              " 'Must',\n",
              " 'Why',\n",
              " 'He',\n",
              " 'King',\n",
              " 'Arthur',\n",
              " 'King',\n",
              " 'Arthur',\n",
              " 'Old',\n",
              " 'Man',\n",
              " 'Man',\n",
              " 'Sorry',\n",
              " 'What',\n",
              " 'Well',\n",
              " 'Man',\n",
              " 'Well',\n",
              " 'Dennis',\n",
              " 'Well',\n",
              " 'Dennis',\n",
              " 'Well',\n",
              " 'What',\n",
              " 'Well',\n",
              " 'Oh',\n",
              " 'And',\n",
              " 'By',\n",
              " 'By',\n",
              " 'If',\n",
              " 'Dennis',\n",
              " 'Oh',\n",
              " 'How',\n",
              " 'How',\n",
              " 'Arthur',\n",
              " 'King',\n",
              " 'Britons',\n",
              " 'Who',\n",
              " 'King',\n",
              " 'The',\n",
              " 'Britons',\n",
              " 'Who',\n",
              " 'Britons',\n",
              " 'Well',\n",
              " 'We',\n",
              " 'Britons',\n",
              " 'You',\n",
              " 'We',\n",
              " 'Oh',\n",
              " 'That',\n",
              " 'If',\n",
              " 'Please',\n",
              " 'Who',\n",
              " 'No',\n",
              " 'Then',\n",
              " 'We',\n",
              " 'What',\n",
              " 'We',\n",
              " 'We',\n",
              " 'Yes',\n",
              " 'But',\n",
              " 'Yes',\n",
              " 'By',\n",
              " 'Be',\n",
              " 'But',\n",
              " 'Be',\n",
              " 'Order',\n",
              " 'Who',\n",
              " 'Heh',\n",
              " 'Well',\n",
              " 'You',\n",
              " 'Well',\n",
              " 'The',\n",
              " 'Lady',\n",
              " 'Lake',\n",
              " 'Excalibur',\n",
              " 'Divine',\n",
              " 'Providence',\n",
              " 'Arthur',\n",
              " 'Excalibur',\n",
              " 'That',\n",
              " 'Listen',\n",
              " 'Supreme',\n",
              " 'Be',\n",
              " 'Well',\n",
              " 'Shut',\n",
              " 'Shut',\n",
              " 'Shut',\n",
              " 'Ah',\n",
              " 'Shut',\n",
              " 'Oh',\n",
              " 'Come',\n",
              " 'Help',\n",
              " 'Bloody',\n",
              " 'Oh',\n",
              " 'Did',\n",
              " 'Did',\n",
              " 'That',\n",
              " 'Did',\n",
              " 'You',\n",
              " 'King',\n",
              " 'Arthur',\n",
              " 'Aaagh',\n",
              " 'King',\n",
              " 'Arthur',\n",
              " 'Aaagh',\n",
              " 'Ooh',\n",
              " 'King',\n",
              " 'Arthur',\n",
              " 'Aagh',\n",
              " 'Oh',\n",
              " 'King',\n",
              " 'Arthur',\n",
              " 'Ooh',\n",
              " 'Aaagh',\n",
              " 'Agh',\n",
              " 'Aaaaaah',\n",
              " 'Aaaaaaaaah',\n",
              " 'Umm',\n",
              " 'You',\n",
              " 'Sir',\n",
              " 'Knight',\n",
              " 'Arthur',\n",
              " 'King',\n",
              " 'Britons',\n",
              " 'Camelot',\n",
              " 'You',\n",
              " 'Will',\n",
              " 'You',\n",
              " 'So',\n",
              " 'Come',\n",
              " 'Patsy',\n",
              " 'None',\n",
              " 'What',\n",
              " 'None',\n",
              " 'Sir',\n",
              " 'Knight',\n",
              " 'Then',\n",
              " 'King',\n",
              " 'Britons',\n",
              " 'So',\n",
              " 'Aaah',\n",
              " 'Now',\n",
              " 'Tis',\n",
              " 'Your',\n",
              " 'No',\n",
              " 'Well',\n",
              " 'You',\n",
              " 'Come',\n",
              " 'Huyah',\n",
              " 'Hiyaah',\n",
              " 'Aaaaaaaah',\n",
              " 'Victory',\n",
              " 'We',\n",
              " 'Thee',\n",
              " 'Lord',\n",
              " 'Thy',\n",
              " 'Hah',\n",
              " 'Come',\n",
              " 'What',\n",
              " 'Have',\n",
              " 'Eh',\n",
              " 'You',\n",
              " 'Sir',\n",
              " 'Knight',\n",
              " 'Oh',\n",
              " 'Look',\n",
              " 'You',\n",
              " 'Yes',\n",
              " 'Look',\n",
              " 'Just',\n",
              " 'Look',\n",
              " 'Chicken',\n",
              " 'Chickennn',\n",
              " 'Look',\n",
              " 'Right',\n",
              " 'Right',\n",
              " 'You',\n",
              " 'Come',\n",
              " 'What',\n",
              " 'You',\n",
              " 'The',\n",
              " 'Black',\n",
              " 'Knight',\n",
              " 'Have',\n",
              " 'Come',\n",
              " 'Ooh',\n",
              " 'All',\n",
              " 'Come',\n",
              " 'Patsy',\n",
              " 'Oh',\n",
              " 'Oh',\n",
              " 'Running',\n",
              " 'You',\n",
              " 'Come',\n",
              " 'Pie',\n",
              " 'Iesu',\n",
              " 'Pie',\n",
              " 'Iesu',\n",
              " 'Pie',\n",
              " 'Iesu',\n",
              " 'Pie',\n",
              " 'Iesu',\n",
              " 'We',\n",
              " 'We',\n",
              " 'Burn',\n",
              " 'Burn',\n",
              " 'Burn',\n",
              " 'We',\n",
              " 'We',\n",
              " 'We',\n",
              " 'May',\n",
              " 'Burn',\n",
              " 'Burn',\n",
              " 'Burn',\n",
              " 'Burn',\n",
              " 'How',\n",
              " 'She',\n",
              " 'Right',\n",
              " 'Yeah',\n",
              " 'Yeah',\n",
              " 'Bring',\n",
              " 'Uh',\n",
              " 'They',\n",
              " 'Augh',\n",
              " 'We',\n",
              " 'And',\n",
              " 'It',\n",
              " 'Well',\n",
              " 'Well',\n",
              " 'The',\n",
              " 'And',\n",
              " 'Yeah',\n",
              " 'We',\n",
              " 'Right',\n",
              " 'Yeaaah',\n",
              " 'Yeaah',\n",
              " 'Did',\n",
              " 'No',\n",
              " 'No',\n",
              " 'No',\n",
              " 'No',\n",
              " 'No',\n",
              " 'No',\n",
              " 'Yes',\n",
              " 'Yes',\n",
              " 'Yes',\n",
              " 'Yeah',\n",
              " 'She',\n",
              " 'What',\n",
              " 'Well',\n",
              " 'Burn',\n",
              " 'Burn',\n",
              " 'Burn',\n",
              " 'Burn',\n",
              " 'Burn',\n",
              " 'Quiet',\n",
              " 'Quiet',\n",
              " 'Quiet',\n",
              " 'Quiet',\n",
              " 'There',\n",
              " 'Are',\n",
              " 'Ah',\n",
              " 'What',\n",
              " 'Tell',\n",
              " 'Tell',\n",
              " 'Tell',\n",
              " 'Burn',\n",
              " 'Burn',\n",
              " 'Burn',\n",
              " 'Burn',\n",
              " 'Burn',\n",
              " 'And',\n",
              " 'More',\n",
              " 'Shh',\n",
              " 'Wood',\n",
              " 'So',\n",
              " 'Good',\n",
              " 'Heh',\n",
              " 'Oh',\n",
              " 'Oh',\n",
              " 'So',\n",
              " 'Build',\n",
              " 'Ah',\n",
              " 'Oh',\n",
              " 'Oh',\n",
              " 'True',\n",
              " 'Uhh',\n",
              " 'Does',\n",
              " 'No',\n",
              " 'No',\n",
              " 'No',\n",
              " 'It',\n",
              " 'Throw',\n",
              " 'The',\n",
              " 'Throw',\n",
              " 'What',\n",
              " 'Bread',\n",
              " 'Apples',\n",
              " 'Uh',\n",
              " 'Cider',\n",
              " 'Uh',\n",
              " 'Cherries',\n",
              " 'Mud',\n",
              " 'Churches',\n",
              " 'Churches',\n",
              " 'Lead',\n",
              " 'Lead',\n",
              " 'Oooh',\n",
              " 'Exactly',\n",
              " 'So',\n",
              " 'If',\n",
              " 'And',\n",
              " 'Here',\n",
              " 'Use',\n",
              " 'We',\n",
              " 'Ohh',\n",
              " 'Ohh',\n",
              " 'Burn',\n",
              " 'Burn',\n",
              " 'Burn',\n",
              " 'Burn',\n",
              " 'Burn',\n",
              " 'Burn',\n",
              " 'Burn',\n",
              " 'Burn',\n",
              " 'Burn',\n",
              " 'Ahh',\n",
              " 'Ahh',\n",
              " 'Right',\n",
              " 'Remove',\n",
              " 'It',\n",
              " 'Burn',\n",
              " 'Burn',\n",
              " 'Burn',\n",
              " 'Burn',\n",
              " 'Burn',\n",
              " 'Burn',\n",
              " 'Who',\n",
              " 'Arthur',\n",
              " 'King',\n",
              " 'Britons',\n",
              " 'My',\n",
              " 'Good',\n",
              " 'Sir',\n",
              " 'Knight',\n",
              " 'Camelot',\n",
              " 'Round',\n",
              " 'Table',\n",
              " 'My',\n",
              " 'What',\n",
              " 'Bedevere',\n",
              " 'Then',\n",
              " 'Sir',\n",
              " 'Bedevere',\n",
              " 'Knight',\n",
              " 'Round',\n",
              " 'Table',\n",
              " 'The',\n",
              " 'Sir',\n",
              " 'Bedevere',\n",
              " 'King',\n",
              " 'Arthur',\n",
              " 'Sir',\n",
              " 'Lancelot',\n",
              " 'Brave',\n",
              " 'Sir',\n",
              " 'Gallahad',\n",
              " 'Pure',\n",
              " 'Sir',\n",
              " 'Robin',\n",
              " 'Sir',\n",
              " 'Lancelot',\n",
              " 'Dragon',\n",
              " 'Angnor',\n",
              " 'Chicken',\n",
              " 'Bristol',\n",
              " 'Battle',\n",
              " 'Badon',\n",
              " 'Hill',\n",
              " 'Sir',\n",
              " 'Not',\n",
              " 'Together',\n",
              " 'Knights',\n",
              " 'Round',\n",
              " 'Table',\n",
              " 'And',\n",
              " 'This',\n",
              " 'Sir',\n",
              " 'Bedevere',\n",
              " 'Explain',\n",
              " 'Oh',\n",
              " 'Look',\n",
              " 'Camelot',\n",
              " 'Camelot',\n",
              " 'Camelot',\n",
              " 'It',\n",
              " 'Shh',\n",
              " 'Knights',\n",
              " 'Let',\n",
              " 'Camelot',\n",
              " 'We',\n",
              " 'We',\n",
              " 'We',\n",
              " 'With',\n",
              " 'We',\n",
              " 'Camelot',\n",
              " 'We',\n",
              " 'We',\n",
              " 'Round',\n",
              " 'Table',\n",
              " 'Our',\n",
              " 'But',\n",
              " 'That',\n",
              " 'We',\n",
              " 'Camelot',\n",
              " 'We',\n",
              " 'In',\n",
              " 'Quite',\n",
              " 'Between',\n",
              " 'Clark',\n",
              " 'Gable',\n",
              " 'It',\n",
              " 'Camelot',\n",
              " 'Well',\n",
              " 'Camelot',\n",
              " 'It',\n",
              " 'Right',\n",
              " 'Right',\n",
              " 'Arthur',\n",
              " 'Arthur',\n",
              " 'King',\n",
              " 'Britons',\n",
              " 'Oh',\n",
              " 'One',\n",
              " 'Sorry',\n",
              " 'And',\n",
              " 'Every',\n",
              " 'What',\n",
              " 'Lord',\n",
              " 'Well',\n",
              " 'It',\n",
              " 'Psalms',\n",
              " 'Now',\n",
              " 'Yes',\n",
              " 'Lord',\n",
              " 'Right',\n",
              " 'Arthur',\n",
              " 'King',\n",
              " 'Britons',\n",
              " 'Knights',\n",
              " 'Round',\n",
              " 'Table',\n",
              " 'Good',\n",
              " 'Lord',\n",
              " 'Course',\n",
              " 'Behold',\n",
              " 'Arthur',\n",
              " 'Holy',\n",
              " 'Grail',\n",
              " 'Look',\n",
              " 'Arthur',\n",
              " 'That',\n",
              " 'Arthur',\n",
              " 'Holy',\n",
              " 'Grail',\n",
              " 'Lord',\n",
              " 'God',\n",
              " 'King',\n",
              " 'Arthur',\n",
              " 'Halt',\n",
              " 'Hallo',\n",
              " 'Hallo',\n",
              " 'Allo',\n",
              " 'Who',\n",
              " 'It',\n",
              " 'King',\n",
              " 'Arthur',\n",
              " 'Knights',\n",
              " 'Round',\n",
              " 'Table',\n",
              " 'Who',\n",
              " 'This',\n",
              " 'Guy',\n",
              " 'Loimbard',\n",
              " 'Go',\n",
              " 'God',\n",
              " 'If',\n",
              " 'Holy',\n",
              " 'Grail',\n",
              " 'Well',\n",
              " 'Uh',\n",
              " 'What',\n",
              " 'He',\n",
              " 'Are',\n",
              " 'Oh',\n",
              " 'Well',\n",
              " 'Of',\n",
              " 'You',\n",
              " 'English',\n",
              " 'Well',\n",
              " 'French',\n",
              " 'Why',\n",
              " 'What',\n",
              " 'England',\n",
              " 'Mind',\n",
              " 'If',\n",
              " 'Grail',\n",
              " 'You',\n",
              " 'English',\n",
              " 'Go',\n",
              " 'Arthur',\n",
              " 'King',\n",
              " 'English',\n",
              " 'Thpppppt',\n",
              " 'Thppt',\n",
              " 'Thppt',\n",
              " 'What',\n",
              " 'Now',\n",
              " 'You',\n",
              " 'Is',\n",
              " 'No',\n",
              " 'Now',\n",
              " 'Fetchez',\n",
              " 'Quoi',\n",
              " 'Fetchez',\n",
              " 'If',\n",
              " 'Jesus',\n",
              " 'Christ',\n",
              " 'Christ',\n",
              " 'Ah',\n",
              " 'Ohh',\n",
              " 'Right',\n",
              " 'Charge',\n",
              " 'Charge',\n",
              " 'Hey',\n",
              " 'There',\n",
              " 'And',\n",
              " 'Run',\n",
              " 'Run',\n",
              " 'Thppppt',\n",
              " 'Fiends',\n",
              " 'No',\n",
              " 'No',\n",
              " 'Sir',\n",
              " 'Quoi',\n",
              " 'Un',\n",
              " 'What',\n",
              " 'Oh',\n",
              " 'Oui',\n",
              " 'Hurry',\n",
              " 'What',\n",
              " 'Let',\n",
              " 'Oh',\n",
              " 'On',\n",
              " 'Bon',\n",
              " 'Over',\n",
              " 'What',\n",
              " 'Well',\n",
              " 'Launcelot',\n",
              " 'Galahad',\n",
              " 'French',\n",
              " 'Not',\n",
              " 'Who',\n",
              " 'Launcelot',\n",
              " 'Galahad',\n",
              " 'Uh',\n",
              " 'Ohh',\n",
              " 'Oh',\n",
              " 'Um',\n",
              " 'Run',\n",
              " 'Run',\n",
              " 'Run',\n",
              " 'Run',\n",
              " 'Run',\n",
              " 'Run',\n",
              " 'Run',\n",
              " 'Run',\n",
              " 'Oh',\n",
              " 'Haw',\n",
              " 'Haw',\n",
              " 'Picture',\n",
              " 'Schools',\n",
              " 'Action',\n",
              " 'Defeat',\n",
              " 'King',\n",
              " 'Arthur',\n",
              " 'The',\n",
              " 'French',\n",
              " 'Arthur',\n",
              " 'Holy',\n",
              " 'Grail',\n",
              " 'Arthur',\n",
              " 'Grail',\n",
              " 'Now',\n",
              " 'Launcelot',\n",
              " 'Aaaah',\n",
              " 'Frank',\n",
              " 'The',\n",
              " 'Tale',\n",
              " 'Sir',\n",
              " 'Robin',\n",
              " 'So',\n",
              " 'Sir',\n",
              " 'Robin',\n",
              " 'Ewing',\n",
              " 'Bravely',\n",
              " 'Sir',\n",
              " 'Robin',\n",
              " 'Camelot',\n",
              " 'He',\n",
              " 'Sir',\n",
              " 'Robin',\n",
              " 'He',\n",
              " 'Brave',\n",
              " 'Sir',\n",
              " 'Robin',\n",
              " 'He',\n",
              " 'Or',\n",
              " 'To',\n",
              " 'And',\n",
              " 'Sir',\n",
              " 'Robin',\n",
              " 'His',\n",
              " 'And',\n",
              " 'And',\n",
              " 'And',\n",
              " 'That',\n",
              " 'Heh',\n",
              " 'Looks',\n",
              " 'Anarcho',\n",
              " 'Oh',\n",
              " 'Dennis',\n",
              " 'We',\n",
              " 'Halt',\n",
              " 'Who',\n",
              " 'He',\n",
              " 'Sir',\n",
              " 'Robin',\n",
              " 'Sir',\n",
              " 'Robin',\n",
              " 'Shut',\n",
              " 'Um',\n",
              " 'What',\n",
              " 'To',\n",
              " 'Shut',\n",
              " 'Um',\n",
              " 'Sir',\n",
              " 'Knight',\n",
              " 'Ah',\n",
              " 'Knight',\n",
              " 'Round',\n",
              " 'Table',\n",
              " 'You',\n",
              " 'Knight',\n",
              " 'Round',\n",
              " 'Table',\n",
              " 'In',\n",
              " 'Shall',\n",
              " 'Oh',\n",
              " 'Well',\n",
              " 'Oh',\n",
              " 'Oh',\n",
              " 'Perhaps',\n",
              " 'And',\n",
              " 'Oh',\n",
              " 'Get',\n",
              " 'Oh',\n",
              " 'Yes',\n",
              " 'What',\n",
              " 'Yapping',\n",
              " 'You',\n",
              " 'You',\n",
              " 'What',\n",
              " 'You',\n",
              " 'Oh',\n",
              " 'Anyway',\n",
              " 'Well',\n",
              " 'Oh',\n",
              " 'Oh',\n",
              " 'All',\n",
              " 'All',\n",
              " 'We',\n",
              " 'Yes',\n",
              " 'Oh',\n",
              " 'All',\n",
              " 'All',\n",
              " 'Right',\n",
              " 'He',\n",
              " 'So',\n",
              " 'He',\n",
              " 'Brave',\n",
              " 'Sir',\n",
              " 'Robin',\n",
              " 'No',\n",
              " 'Bravely',\n",
              " 'When',\n",
              " 'No',\n",
              " 'Yes',\n",
              " 'Sir',\n",
              " 'Robin',\n",
              " 'And',\n",
              " 'He',\n",
              " 'All',\n",
              " 'Bravest',\n",
              " 'Sir',\n",
              " 'Robin',\n",
              " 'Pie',\n",
              " 'Iesu',\n",
              " 'Heh',\n",
              " 'Pie',\n",
              " 'Iesu',\n",
              " 'Wayy',\n",
              " 'Ho',\n",
              " 'Woa',\n",
              " 'Heh',\n",
              " 'Heh',\n",
              " 'Wayy',\n",
              " 'Wayy',\n",
              " 'Forgive',\n",
              " 'Oh',\n",
              " 'Oooo',\n",
              " 'The',\n",
              " 'Tale',\n",
              " 'Sir',\n",
              " 'Galahad',\n",
              " 'Open',\n",
              " 'Open',\n",
              " 'In',\n",
              " 'King',\n",
              " 'Arthur',\n",
              " 'Hello',\n",
              " 'Welcome',\n",
              " 'Sir',\n",
              " 'Knight',\n",
              " 'Welcome',\n",
              " 'Castle',\n",
              " 'Anthrax',\n",
              " 'The',\n",
              " 'Castle',\n",
              " 'Anthrax',\n",
              " 'Yes',\n",
              " 'Oh',\n",
              " 'Oh',\n",
              " 'You',\n",
              " 'Holy',\n",
              " 'Grail',\n",
              " 'The',\n",
              " 'The',\n",
              " 'Grail',\n",
              " 'It',\n",
              " 'Oh',\n",
              " 'Midget',\n",
              " 'Crapper',\n",
              " 'Yes',\n",
              " 'Zoot',\n",
              " 'Prepare',\n",
              " 'Oh',\n",
              " 'Thank',\n",
              " 'Thank',\n",
              " 'Thank',\n",
              " 'Thank',\n",
              " 'Thank',\n",
              " 'Away',\n",
              " 'The',\n",
              " 'Well',\n",
              " 'What',\n",
              " 'Sir',\n",
              " 'Galahad',\n",
              " 'Chaste',\n",
              " 'Mine',\n",
              " 'Zoot',\n",
              " 'Just',\n",
              " 'Zoot',\n",
              " 'Oh',\n",
              " 'Look',\n",
              " 'In',\n",
              " 'God',\n",
              " 'Grail',\n",
              " 'Oh',\n",
              " 'You',\n",
              " 'No',\n",
              " 'It',\n",
              " 'Sir',\n",
              " 'Galahad',\n",
              " 'You',\n",
              " 'Well',\n",
              " 'Oh',\n",
              " 'We',\n",
              " 'Oooh',\n",
              " 'It',\n",
              " 'We',\n",
              " 'Nay',\n",
              " 'Nay',\n",
              " 'Come',\n",
              " 'Come',\n",
              " 'You',\n",
              " 'Oh',\n",
              " 'No',\n",
              " 'Oh',\n",
              " 'No',\n",
              " 'Lie',\n",
              " 'Well',\n",
              " 'They',\n",
              " 'Uh',\n",
              " 'Oh',\n",
              " 'You',\n",
              " 'Doctor',\n",
              " 'Piglet',\n",
              " 'Doctor',\n",
              " 'Winston',\n",
              " 'Practice',\n",
              " 'Try',\n",
              " 'Are',\n",
              " 'We',\n",
              " 'There',\n",
              " 'Please',\n",
              " 'We',\n",
              " 'Look',\n",
              " 'This',\n",
              " 'Back',\n",
              " 'At',\n",
              " 'Torment',\n",
              " 'Grail',\n",
              " 'There',\n",
              " 'Hello',\n",
              " 'Oh',\n",
              " 'Hello',\n",
              " 'Hello',\n",
              " 'Hello',\n",
              " 'Hello',\n",
              " 'Hello',\n",
              " 'Hello',\n",
              " 'Hello',\n",
              " 'Hello',\n",
              " 'Hello',\n",
              " 'Hello',\n",
              " 'Hello',\n",
              " 'Hello',\n",
              " 'Hello',\n",
              " 'Hello',\n",
              " 'Hello',\n",
              " 'Hello',\n",
              " 'Hello',\n",
              " 'Hello',\n",
              " 'Hello',\n",
              " 'Hello',\n",
              " 'Hello',\n",
              " 'Hello',\n",
              " 'Hello',\n",
              " 'Zoot',\n",
              " 'No',\n",
              " 'Zoot',\n",
              " 'Dingo',\n",
              " 'Oh',\n",
              " 'Where',\n",
              " 'Grail',\n",
              " 'Oh',\n",
              " 'Oh',\n",
              " 'Bad',\n",
              " 'Zoot',\n",
              " 'Well',\n",
              " 'Oh',\n",
              " 'Zoot',\n",
              " 'She',\n",
              " 'It',\n",
              " 'It',\n",
              " 'Grail',\n",
              " 'Oh',\n",
              " 'Zoot',\n",
              " 'She',\n",
              " 'Do',\n",
              " 'We',\n",
              " 'It',\n",
              " 'At',\n",
              " 'Well',\n",
              " 'It',\n",
              " 'Get',\n",
              " 'Yes',\n",
              " 'Yes',\n",
              " 'Oh',\n",
              " 'Get',\n",
              " 'Oh',\n",
              " 'Zoot',\n",
              " 'Oh',\n",
              " 'And',\n",
              " 'Castle',\n",
              " 'Anthrax',\n",
              " ...]"
            ]
          },
          "metadata": {},
          "execution_count": 144
        }
      ]
    },
    {
      "cell_type": "markdown",
      "source": [
        "25. Define sent to be the list of words ['she', 'sells', 'sea', 'shells', 'by', 'the', 'sea', 'shore']. Now write code to perform the following tasks:"
      ],
      "metadata": {
        "id": "v4wnxkb8i-41"
      }
    },
    {
      "cell_type": "code",
      "source": [
        "sent = [\"she\", \"sells\", \"sea\", \"shells\", \"by\", \"the\", \"sea\", \"shore\"]"
      ],
      "metadata": {
        "id": "UcECj-z4qrgo"
      },
      "execution_count": null,
      "outputs": []
    },
    {
      "cell_type": "markdown",
      "source": [
        "a. Print all words beginning with sh\n"
      ],
      "metadata": {
        "id": "Vzcy61EKjIAr"
      }
    },
    {
      "cell_type": "code",
      "source": [
        "[word for word in sent if word[0:2] == \"sh\"]"
      ],
      "metadata": {
        "colab": {
          "base_uri": "https://localhost:8080/"
        },
        "id": "UcIj_bq2jLDx",
        "outputId": "b6aec481-2cbc-47ba-f890-f599522eaed2"
      },
      "execution_count": null,
      "outputs": [
        {
          "output_type": "execute_result",
          "data": {
            "text/plain": [
              "['she', 'shells', 'shore']"
            ]
          },
          "metadata": {},
          "execution_count": 147
        }
      ]
    },
    {
      "cell_type": "markdown",
      "source": [
        "b. Print all words longer than four characters"
      ],
      "metadata": {
        "id": "8geubZOIjKQc"
      }
    },
    {
      "cell_type": "code",
      "source": [
        "[word for word in sent if len(word) > 4]"
      ],
      "metadata": {
        "colab": {
          "base_uri": "https://localhost:8080/"
        },
        "id": "9oM3JbGTjGSb",
        "outputId": "cbb1daca-8304-40b7-aacc-e567fe7ad638"
      },
      "execution_count": null,
      "outputs": [
        {
          "output_type": "execute_result",
          "data": {
            "text/plain": [
              "['sells', 'shells', 'shore']"
            ]
          },
          "metadata": {},
          "execution_count": 148
        }
      ]
    },
    {
      "cell_type": "markdown",
      "source": [
        "26. What does the following Python code do? sum(len(w) for w in text1) Can you use it to work out the average word length of a text?"
      ],
      "metadata": {
        "id": "PiBP6MpmjN89"
      }
    },
    {
      "cell_type": "code",
      "source": [
        "sum(len(w) for w in text1) / len(text1)"
      ],
      "metadata": {
        "colab": {
          "base_uri": "https://localhost:8080/"
        },
        "id": "0-1QH1bEj9tu",
        "outputId": "5a702264-f088-422c-aedb-67f08324307c"
      },
      "execution_count": null,
      "outputs": [
        {
          "output_type": "execute_result",
          "data": {
            "text/plain": [
              "3.830411128023649"
            ]
          },
          "metadata": {},
          "execution_count": 150
        }
      ]
    },
    {
      "cell_type": "markdown",
      "source": [
        "27. Define a function called vocab_size(text) that has a single parameter for the text, and which returns the vocabulary size of the text."
      ],
      "metadata": {
        "id": "mgvXFmJsjwn9"
      }
    },
    {
      "cell_type": "code",
      "source": [
        "def vocab_size(text):\n",
        "  return len(set(text))"
      ],
      "metadata": {
        "id": "5fgiNh0Ej9aZ"
      },
      "execution_count": null,
      "outputs": []
    },
    {
      "cell_type": "code",
      "source": [
        "vocab_size(text1)"
      ],
      "metadata": {
        "colab": {
          "base_uri": "https://localhost:8080/"
        },
        "id": "B2RW4nttsaW1",
        "outputId": "1f4415ec-6a90-47cd-ae43-bc0314090618"
      },
      "execution_count": null,
      "outputs": [
        {
          "output_type": "execute_result",
          "data": {
            "text/plain": [
              "19317"
            ]
          },
          "metadata": {},
          "execution_count": 152
        }
      ]
    },
    {
      "cell_type": "markdown",
      "source": [
        " 28. Define a function percent(word, text) that calculates how often a given word occurs in a text, and expresses the result as a percentage."
      ],
      "metadata": {
        "id": "j8rjCcJ2j3kf"
      }
    },
    {
      "cell_type": "code",
      "source": [
        "def percent(word, text):\n",
        "  return text.count(word) / len(text)"
      ],
      "metadata": {
        "colab": {
          "base_uri": "https://localhost:8080/"
        },
        "id": "PNlA-SEDj9Du",
        "outputId": "47eb3083-37c8-4a80-8c63-aae65b512288"
      },
      "execution_count": null,
      "outputs": [
        {
          "output_type": "execute_result",
          "data": {
            "text/plain": [
              "0.017517895552087846"
            ]
          },
          "metadata": {},
          "execution_count": 154
        }
      ]
    },
    {
      "cell_type": "code",
      "source": [
        "percent('a', text1)"
      ],
      "metadata": {
        "colab": {
          "base_uri": "https://localhost:8080/"
        },
        "id": "9jHJA13ttpLm",
        "outputId": "fd0a373d-c2c1-449c-c25e-b4ec79f77ef0"
      },
      "execution_count": null,
      "outputs": [
        {
          "output_type": "execute_result",
          "data": {
            "text/plain": [
              "0.017517895552087846"
            ]
          },
          "metadata": {},
          "execution_count": 155
        }
      ]
    },
    {
      "cell_type": "markdown",
      "source": [
        "29. We have been using sets to store vocabularies. Try the following Python expression: set(sent3) < set(text1). Experiment with this using different arguments to set(). What does it do? Can you think of a practical application for this?"
      ],
      "metadata": {
        "id": "BuxAxCX4j4aC"
      }
    },
    {
      "cell_type": "code",
      "source": [
        "set(sent3) < set(text1)"
      ],
      "metadata": {
        "colab": {
          "base_uri": "https://localhost:8080/"
        },
        "id": "yeURKOfxj2E2",
        "outputId": "e5a87c11-d71d-4389-955f-ae25827ad497"
      },
      "execution_count": null,
      "outputs": [
        {
          "output_type": "execute_result",
          "data": {
            "text/plain": [
              "True"
            ]
          },
          "metadata": {},
          "execution_count": 156
        }
      ]
    },
    {
      "cell_type": "code",
      "source": [
        "my_sent_1 = [\"a\", \"b\", \"c\", \"d\"]\n",
        "my_sent_2 = [\"a\", \"b\", \"c\"]\n",
        "\n",
        "print(set(my_sent_1) >= set(my_sent_2))\n",
        "print(set(my_sent_1) <= set(my_sent_2))"
      ],
      "metadata": {
        "colab": {
          "base_uri": "https://localhost:8080/"
        },
        "id": "8_-BIFeNu0YY",
        "outputId": "ae09afab-4477-42ce-faa4-0ba01fccf47b"
      },
      "execution_count": null,
      "outputs": [
        {
          "output_type": "stream",
          "name": "stdout",
          "text": [
            "True\n",
            "False\n"
          ]
        }
      ]
    },
    {
      "cell_type": "code",
      "source": [
        "my_sent_1 = [\"b\", \"c\", \"d\", \"e\", \"a\"]\n",
        "my_sent_2 = [\"a\", \"b\", \"c\", \"d\", \"z\", \"e\"]\n",
        "\n",
        "print(set(my_sent_1) > set(my_sent_2))\n",
        "print(set(my_sent_1) < set(my_sent_2))"
      ],
      "metadata": {
        "colab": {
          "base_uri": "https://localhost:8080/"
        },
        "id": "zZ71mnHDvk25",
        "outputId": "0f4e55cc-e204-4fd5-f6c5-a053ecb183f6"
      },
      "execution_count": null,
      "outputs": [
        {
          "output_type": "stream",
          "name": "stdout",
          "text": [
            "False\n",
            "True\n"
          ]
        }
      ]
    },
    {
      "cell_type": "code",
      "source": [
        "print(\"The <= operator for set is the subset operator.\")\n",
        "print(\"The < operator for sets is the proper subset operator.\")\n",
        "print(\"It is useful when checking the vocabulary of a particular text is proper subset of another. This could be useful for genre analysis, as if text1 < text2 and we know the genre of text1 we can say that text2 has some elements of text1's genre in it.\")"
      ],
      "metadata": {
        "colab": {
          "base_uri": "https://localhost:8080/"
        },
        "id": "rTY3-kCJxkd4",
        "outputId": "093e002d-9ddf-4268-e1dc-4121dfee80db"
      },
      "execution_count": null,
      "outputs": [
        {
          "output_type": "stream",
          "name": "stdout",
          "text": [
            "The <= operator for set is the subset operator.\n",
            "The < operator for sets is the proper subset operator.\n",
            "It is useful when checking the vocabulary of a particular text is proper subset of another. This could be useful for genre analysis, as if text1 < text2 and we know the genre of text1 we can say that text2 has some elements of text1's genre in it.\n"
          ]
        }
      ]
    }
  ]
}